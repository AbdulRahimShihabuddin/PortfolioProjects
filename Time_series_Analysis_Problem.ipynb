{
  "cells": [
    {
      "cell_type": "markdown",
      "metadata": {
        "id": "cjM2RCywf1ug"
      },
      "source": [
        "#Read the xlsx file from Google Drive\n",
        "\n"
      ]
    },
    {
      "cell_type": "code",
      "execution_count": null,
      "metadata": {
        "colab": {
          "base_uri": "https://localhost:8080/"
        },
        "id": "QAMXHFAXig_r",
        "outputId": "6018aa51-ee55-4a8c-d8dd-425c11f61ed3"
      },
      "outputs": [
        {
          "name": "stderr",
          "output_type": "stream",
          "text": [
            "/usr/local/lib/python3.7/dist-packages/openpyxl/worksheet/_reader.py:312: UserWarning: Unknown extension is not supported and will be removed\n",
            "  warn(msg)\n"
          ]
        }
      ],
      "source": [
        "import pandas as pd\n",
        "df=pd.read_excel(\"/content/drive/MyDrive/data.xlsx\")"
      ]
    },
    {
      "cell_type": "code",
      "execution_count": null,
      "metadata": {
        "colab": {
          "base_uri": "https://localhost:8080/"
        },
        "id": "wKRTFNLqgvBH",
        "outputId": "f2b07e51-d0a0-4542-dfdf-968c4fe632f4"
      },
      "outputs": [
        {
          "name": "stdout",
          "output_type": "stream",
          "text": [
            "Number of rows and columns of dataframe: (377719, 7)\n"
          ]
        }
      ],
      "source": [
        "print(\"Number of rows and columns of dataframe:\",df.shape[:])"
      ]
    },
    {
      "cell_type": "code",
      "execution_count": null,
      "metadata": {
        "colab": {
          "base_uri": "https://localhost:8080/"
        },
        "id": "GC6yPktVzYFm",
        "outputId": "9f76b2bd-922b-4a89-826e-1cd1aa964fe0"
      },
      "outputs": [
        {
          "name": "stdout",
          "output_type": "stream",
          "text": [
            "Looking in indexes: https://pypi.org/simple, https://us-python.pkg.dev/colab-wheels/public/simple/\n",
            "Collecting pmdarima\n",
            "  Downloading pmdarima-2.0.1-cp37-cp37m-manylinux_2_17_x86_64.manylinux2014_x86_64.manylinux_2_28_x86_64.whl (1.8 MB)\n",
            "\u001b[K     |████████████████████████████████| 1.8 MB 5.3 MB/s \n",
            "\u001b[?25hRequirement already satisfied: urllib3 in /usr/local/lib/python3.7/dist-packages (from pmdarima) (1.24.3)\n",
            "Requirement already satisfied: setuptools!=50.0.0,>=38.6.0 in /usr/local/lib/python3.7/dist-packages (from pmdarima) (57.4.0)\n",
            "Requirement already satisfied: joblib>=0.11 in /usr/local/lib/python3.7/dist-packages (from pmdarima) (1.2.0)\n",
            "Collecting statsmodels>=0.13.2\n",
            "  Downloading statsmodels-0.13.2-cp37-cp37m-manylinux_2_17_x86_64.manylinux2014_x86_64.whl (9.8 MB)\n",
            "\u001b[K     |████████████████████████████████| 9.8 MB 49.4 MB/s \n",
            "\u001b[?25hRequirement already satisfied: Cython!=0.29.18,!=0.29.31,>=0.29 in /usr/local/lib/python3.7/dist-packages (from pmdarima) (0.29.32)\n",
            "Requirement already satisfied: scikit-learn>=0.22 in /usr/local/lib/python3.7/dist-packages (from pmdarima) (1.0.2)\n",
            "Requirement already satisfied: pandas>=0.19 in /usr/local/lib/python3.7/dist-packages (from pmdarima) (1.3.5)\n",
            "Requirement already satisfied: scipy>=1.3.2 in /usr/local/lib/python3.7/dist-packages (from pmdarima) (1.7.3)\n",
            "Requirement already satisfied: numpy>=1.21 in /usr/local/lib/python3.7/dist-packages (from pmdarima) (1.21.6)\n",
            "Requirement already satisfied: python-dateutil>=2.7.3 in /usr/local/lib/python3.7/dist-packages (from pandas>=0.19->pmdarima) (2.8.2)\n",
            "Requirement already satisfied: pytz>=2017.3 in /usr/local/lib/python3.7/dist-packages (from pandas>=0.19->pmdarima) (2022.5)\n",
            "Requirement already satisfied: six>=1.5 in /usr/local/lib/python3.7/dist-packages (from python-dateutil>=2.7.3->pandas>=0.19->pmdarima) (1.15.0)\n",
            "Requirement already satisfied: threadpoolctl>=2.0.0 in /usr/local/lib/python3.7/dist-packages (from scikit-learn>=0.22->pmdarima) (3.1.0)\n",
            "Requirement already satisfied: packaging>=21.3 in /usr/local/lib/python3.7/dist-packages (from statsmodels>=0.13.2->pmdarima) (21.3)\n",
            "Requirement already satisfied: patsy>=0.5.2 in /usr/local/lib/python3.7/dist-packages (from statsmodels>=0.13.2->pmdarima) (0.5.3)\n",
            "Requirement already satisfied: pyparsing!=3.0.5,>=2.0.2 in /usr/local/lib/python3.7/dist-packages (from packaging>=21.3->statsmodels>=0.13.2->pmdarima) (3.0.9)\n",
            "Installing collected packages: statsmodels, pmdarima\n",
            "  Attempting uninstall: statsmodels\n",
            "    Found existing installation: statsmodels 0.12.2\n",
            "    Uninstalling statsmodels-0.12.2:\n",
            "      Successfully uninstalled statsmodels-0.12.2\n",
            "Successfully installed pmdarima-2.0.1 statsmodels-0.13.2\n"
          ]
        }
      ],
      "source": [
        "!pip install pmdarima"
      ]
    },
    {
      "cell_type": "markdown",
      "metadata": {
        "id": "TusNNAoghZMa"
      },
      "source": [
        "#Copying the original dataframe to another dataframe"
      ]
    },
    {
      "cell_type": "code",
      "execution_count": null,
      "metadata": {
        "id": "zlrHP-0GE1NC"
      },
      "outputs": [],
      "source": [
        "df2=df.copy()"
      ]
    },
    {
      "cell_type": "code",
      "execution_count": null,
      "metadata": {
        "colab": {
          "base_uri": "https://localhost:8080/",
          "height": 641
        },
        "id": "nB3Gp3x2YTpe",
        "outputId": "a3d933e9-f862-41c7-d76d-2a32dea26bbf"
      },
      "outputs": [
        {
          "data": {
            "text/html": [
              "\n",
              "  <div id=\"df-4ae82094-cf07-4da7-983d-e0769f664abb\">\n",
              "    <div class=\"colab-df-container\">\n",
              "      <div>\n",
              "<style scoped>\n",
              "    .dataframe tbody tr th:only-of-type {\n",
              "        vertical-align: middle;\n",
              "    }\n",
              "\n",
              "    .dataframe tbody tr th {\n",
              "        vertical-align: top;\n",
              "    }\n",
              "\n",
              "    .dataframe thead th {\n",
              "        text-align: right;\n",
              "    }\n",
              "</style>\n",
              "<table border=\"1\" class=\"dataframe\">\n",
              "  <thead>\n",
              "    <tr style=\"text-align: right;\">\n",
              "      <th></th>\n",
              "      <th>time</th>\n",
              "      <th>Cyclone_Inlet_Gas_Temp</th>\n",
              "      <th>Cyclone_Material_Temp</th>\n",
              "      <th>Cyclone_Outlet_Gas_draft</th>\n",
              "      <th>Cyclone_cone_draft</th>\n",
              "      <th>Cyclone_Gas_Outlet_Temp</th>\n",
              "      <th>Cyclone_Inlet_Draft</th>\n",
              "    </tr>\n",
              "  </thead>\n",
              "  <tbody>\n",
              "    <tr>\n",
              "      <th>0</th>\n",
              "      <td>2017-01-01 00:00:00</td>\n",
              "      <td>867.63</td>\n",
              "      <td>910.42</td>\n",
              "      <td>-189.54</td>\n",
              "      <td>-186.04</td>\n",
              "      <td>852.13</td>\n",
              "      <td>-145.9</td>\n",
              "    </tr>\n",
              "    <tr>\n",
              "      <th>1</th>\n",
              "      <td>2017-01-01 00:05:00</td>\n",
              "      <td>879.23</td>\n",
              "      <td>918.14</td>\n",
              "      <td>-184.33</td>\n",
              "      <td>-182.1</td>\n",
              "      <td>862.53</td>\n",
              "      <td>-149.76</td>\n",
              "    </tr>\n",
              "    <tr>\n",
              "      <th>2</th>\n",
              "      <td>2017-01-01 00:10:00</td>\n",
              "      <td>875.67</td>\n",
              "      <td>924.18</td>\n",
              "      <td>-181.26</td>\n",
              "      <td>-166.47</td>\n",
              "      <td>866.06</td>\n",
              "      <td>-145.01</td>\n",
              "    </tr>\n",
              "    <tr>\n",
              "      <th>3</th>\n",
              "      <td>2017-01-01 00:15:00</td>\n",
              "      <td>875.28</td>\n",
              "      <td>923.15</td>\n",
              "      <td>-179.15</td>\n",
              "      <td>-174.83</td>\n",
              "      <td>865.85</td>\n",
              "      <td>-142.82</td>\n",
              "    </tr>\n",
              "    <tr>\n",
              "      <th>4</th>\n",
              "      <td>2017-01-01 00:20:00</td>\n",
              "      <td>891.66</td>\n",
              "      <td>934.26</td>\n",
              "      <td>-178.32</td>\n",
              "      <td>-173.72</td>\n",
              "      <td>876.06</td>\n",
              "      <td>-143.39</td>\n",
              "    </tr>\n",
              "    <tr>\n",
              "      <th>...</th>\n",
              "      <td>...</td>\n",
              "      <td>...</td>\n",
              "      <td>...</td>\n",
              "      <td>...</td>\n",
              "      <td>...</td>\n",
              "      <td>...</td>\n",
              "      <td>...</td>\n",
              "    </tr>\n",
              "    <tr>\n",
              "      <th>377714</th>\n",
              "      <td>2020-08-07 11:55:00</td>\n",
              "      <td>899.42</td>\n",
              "      <td>919.79</td>\n",
              "      <td>-224.07</td>\n",
              "      <td>-209.77</td>\n",
              "      <td>901.01</td>\n",
              "      <td>-175.15</td>\n",
              "    </tr>\n",
              "    <tr>\n",
              "      <th>377715</th>\n",
              "      <td>2020-08-07 12:00:00</td>\n",
              "      <td>879.9</td>\n",
              "      <td>895.02</td>\n",
              "      <td>-228.04</td>\n",
              "      <td>-211.28</td>\n",
              "      <td>878.08</td>\n",
              "      <td>-176.94</td>\n",
              "    </tr>\n",
              "    <tr>\n",
              "      <th>377716</th>\n",
              "      <td>2020-08-07 12:05:00</td>\n",
              "      <td>887.2</td>\n",
              "      <td>895.7</td>\n",
              "      <td>-230.11</td>\n",
              "      <td>-214.65</td>\n",
              "      <td>885.32</td>\n",
              "      <td>-179.18</td>\n",
              "    </tr>\n",
              "    <tr>\n",
              "      <th>377717</th>\n",
              "      <td>2020-08-07 12:10:00</td>\n",
              "      <td>908.5</td>\n",
              "      <td>916.33</td>\n",
              "      <td>-231.51</td>\n",
              "      <td>-218.09</td>\n",
              "      <td>906.2</td>\n",
              "      <td>-181.96</td>\n",
              "    </tr>\n",
              "    <tr>\n",
              "      <th>377718</th>\n",
              "      <td>2020-08-07 12:15:00</td>\n",
              "      <td>880.86</td>\n",
              "      <td>905.31</td>\n",
              "      <td>-235.02</td>\n",
              "      <td>-219.44</td>\n",
              "      <td>882.1</td>\n",
              "      <td>-184.02</td>\n",
              "    </tr>\n",
              "  </tbody>\n",
              "</table>\n",
              "<p>377719 rows × 7 columns</p>\n",
              "</div>\n",
              "      <button class=\"colab-df-convert\" onclick=\"convertToInteractive('df-4ae82094-cf07-4da7-983d-e0769f664abb')\"\n",
              "              title=\"Convert this dataframe to an interactive table.\"\n",
              "              style=\"display:none;\">\n",
              "        \n",
              "  <svg xmlns=\"http://www.w3.org/2000/svg\" height=\"24px\"viewBox=\"0 0 24 24\"\n",
              "       width=\"24px\">\n",
              "    <path d=\"M0 0h24v24H0V0z\" fill=\"none\"/>\n",
              "    <path d=\"M18.56 5.44l.94 2.06.94-2.06 2.06-.94-2.06-.94-.94-2.06-.94 2.06-2.06.94zm-11 1L8.5 8.5l.94-2.06 2.06-.94-2.06-.94L8.5 2.5l-.94 2.06-2.06.94zm10 10l.94 2.06.94-2.06 2.06-.94-2.06-.94-.94-2.06-.94 2.06-2.06.94z\"/><path d=\"M17.41 7.96l-1.37-1.37c-.4-.4-.92-.59-1.43-.59-.52 0-1.04.2-1.43.59L10.3 9.45l-7.72 7.72c-.78.78-.78 2.05 0 2.83L4 21.41c.39.39.9.59 1.41.59.51 0 1.02-.2 1.41-.59l7.78-7.78 2.81-2.81c.8-.78.8-2.07 0-2.86zM5.41 20L4 18.59l7.72-7.72 1.47 1.35L5.41 20z\"/>\n",
              "  </svg>\n",
              "      </button>\n",
              "      \n",
              "  <style>\n",
              "    .colab-df-container {\n",
              "      display:flex;\n",
              "      flex-wrap:wrap;\n",
              "      gap: 12px;\n",
              "    }\n",
              "\n",
              "    .colab-df-convert {\n",
              "      background-color: #E8F0FE;\n",
              "      border: none;\n",
              "      border-radius: 50%;\n",
              "      cursor: pointer;\n",
              "      display: none;\n",
              "      fill: #1967D2;\n",
              "      height: 32px;\n",
              "      padding: 0 0 0 0;\n",
              "      width: 32px;\n",
              "    }\n",
              "\n",
              "    .colab-df-convert:hover {\n",
              "      background-color: #E2EBFA;\n",
              "      box-shadow: 0px 1px 2px rgba(60, 64, 67, 0.3), 0px 1px 3px 1px rgba(60, 64, 67, 0.15);\n",
              "      fill: #174EA6;\n",
              "    }\n",
              "\n",
              "    [theme=dark] .colab-df-convert {\n",
              "      background-color: #3B4455;\n",
              "      fill: #D2E3FC;\n",
              "    }\n",
              "\n",
              "    [theme=dark] .colab-df-convert:hover {\n",
              "      background-color: #434B5C;\n",
              "      box-shadow: 0px 1px 3px 1px rgba(0, 0, 0, 0.15);\n",
              "      filter: drop-shadow(0px 1px 2px rgba(0, 0, 0, 0.3));\n",
              "      fill: #FFFFFF;\n",
              "    }\n",
              "  </style>\n",
              "\n",
              "      <script>\n",
              "        const buttonEl =\n",
              "          document.querySelector('#df-4ae82094-cf07-4da7-983d-e0769f664abb button.colab-df-convert');\n",
              "        buttonEl.style.display =\n",
              "          google.colab.kernel.accessAllowed ? 'block' : 'none';\n",
              "\n",
              "        async function convertToInteractive(key) {\n",
              "          const element = document.querySelector('#df-4ae82094-cf07-4da7-983d-e0769f664abb');\n",
              "          const dataTable =\n",
              "            await google.colab.kernel.invokeFunction('convertToInteractive',\n",
              "                                                     [key], {});\n",
              "          if (!dataTable) return;\n",
              "\n",
              "          const docLinkHtml = 'Like what you see? Visit the ' +\n",
              "            '<a target=\"_blank\" href=https://colab.research.google.com/notebooks/data_table.ipynb>data table notebook</a>'\n",
              "            + ' to learn more about interactive tables.';\n",
              "          element.innerHTML = '';\n",
              "          dataTable['output_type'] = 'display_data';\n",
              "          await google.colab.output.renderOutput(dataTable, element);\n",
              "          const docLink = document.createElement('div');\n",
              "          docLink.innerHTML = docLinkHtml;\n",
              "          element.appendChild(docLink);\n",
              "        }\n",
              "      </script>\n",
              "    </div>\n",
              "  </div>\n",
              "  "
            ],
            "text/plain": [
              "                      time Cyclone_Inlet_Gas_Temp Cyclone_Material_Temp  \\\n",
              "0      2017-01-01 00:00:00                 867.63                910.42   \n",
              "1      2017-01-01 00:05:00                 879.23                918.14   \n",
              "2      2017-01-01 00:10:00                 875.67                924.18   \n",
              "3      2017-01-01 00:15:00                 875.28                923.15   \n",
              "4      2017-01-01 00:20:00                 891.66                934.26   \n",
              "...                    ...                    ...                   ...   \n",
              "377714 2020-08-07 11:55:00                 899.42                919.79   \n",
              "377715 2020-08-07 12:00:00                  879.9                895.02   \n",
              "377716 2020-08-07 12:05:00                  887.2                 895.7   \n",
              "377717 2020-08-07 12:10:00                  908.5                916.33   \n",
              "377718 2020-08-07 12:15:00                 880.86                905.31   \n",
              "\n",
              "       Cyclone_Outlet_Gas_draft Cyclone_cone_draft Cyclone_Gas_Outlet_Temp  \\\n",
              "0                       -189.54            -186.04                  852.13   \n",
              "1                       -184.33             -182.1                  862.53   \n",
              "2                       -181.26            -166.47                  866.06   \n",
              "3                       -179.15            -174.83                  865.85   \n",
              "4                       -178.32            -173.72                  876.06   \n",
              "...                         ...                ...                     ...   \n",
              "377714                  -224.07            -209.77                  901.01   \n",
              "377715                  -228.04            -211.28                  878.08   \n",
              "377716                  -230.11            -214.65                  885.32   \n",
              "377717                  -231.51            -218.09                   906.2   \n",
              "377718                  -235.02            -219.44                   882.1   \n",
              "\n",
              "       Cyclone_Inlet_Draft  \n",
              "0                   -145.9  \n",
              "1                  -149.76  \n",
              "2                  -145.01  \n",
              "3                  -142.82  \n",
              "4                  -143.39  \n",
              "...                    ...  \n",
              "377714             -175.15  \n",
              "377715             -176.94  \n",
              "377716             -179.18  \n",
              "377717             -181.96  \n",
              "377718             -184.02  \n",
              "\n",
              "[377719 rows x 7 columns]"
            ]
          },
          "execution_count": 8,
          "metadata": {},
          "output_type": "execute_result"
        }
      ],
      "source": [
        "\n",
        "df2"
      ]
    },
    {
      "cell_type": "markdown",
      "metadata": {
        "id": "davhNHSwgJ7S"
      },
      "source": [
        "It can be observed that the column 'time' is given in datetime64[ns] format. \n",
        "\n",
        "It follows the format of YYYY-MM-DD HH:MM:SS\n",
        "\n",
        " All other columns are in \"object\" datatype."
      ]
    },
    {
      "cell_type": "code",
      "execution_count": null,
      "metadata": {
        "colab": {
          "base_uri": "https://localhost:8080/"
        },
        "id": "dVXQojQEGo44",
        "outputId": "4e2fb1b2-8c5c-43cd-a515-e780b744cd25"
      },
      "outputs": [
        {
          "data": {
            "text/plain": [
              "time                        datetime64[ns]\n",
              "Cyclone_Inlet_Gas_Temp              object\n",
              "Cyclone_Material_Temp               object\n",
              "Cyclone_Outlet_Gas_draft            object\n",
              "Cyclone_cone_draft                  object\n",
              "Cyclone_Gas_Outlet_Temp             object\n",
              "Cyclone_Inlet_Draft                 object\n",
              "dtype: object"
            ]
          },
          "execution_count": 9,
          "metadata": {},
          "output_type": "execute_result"
        }
      ],
      "source": [
        "df2.dtypes"
      ]
    },
    {
      "cell_type": "code",
      "execution_count": null,
      "metadata": {
        "colab": {
          "base_uri": "https://localhost:8080/"
        },
        "id": "kx5n1OfyiToo",
        "outputId": "a30c0860-441d-4557-95c3-4ee6bb6b3978"
      },
      "outputs": [
        {
          "data": {
            "text/plain": [
              "time                        0\n",
              "Cyclone_Inlet_Gas_Temp      0\n",
              "Cyclone_Material_Temp       0\n",
              "Cyclone_Outlet_Gas_draft    0\n",
              "Cyclone_cone_draft          0\n",
              "Cyclone_Gas_Outlet_Temp     0\n",
              "Cyclone_Inlet_Draft         0\n",
              "dtype: int64"
            ]
          },
          "execution_count": 10,
          "metadata": {},
          "output_type": "execute_result"
        }
      ],
      "source": [
        "df2.isna().sum()"
      ]
    },
    {
      "cell_type": "markdown",
      "metadata": {
        "id": "Lk_5VIOphj7J"
      },
      "source": [
        "Converting the columns of object datatype into float64 datatype resulted in error as it contains non numeric values. Adding errors= 'coerce' ignore all non-numeric values. It will replace all non-numeric values with NaN"
      ]
    },
    {
      "cell_type": "code",
      "execution_count": null,
      "metadata": {
        "id": "Ji_7UaBmEAyP"
      },
      "outputs": [],
      "source": [
        "df2[\"Cyclone_Inlet_Gas_Temp\"]= pd.to_numeric(df.Cyclone_Inlet_Gas_Temp , errors='coerce')"
      ]
    },
    {
      "cell_type": "code",
      "execution_count": null,
      "metadata": {
        "colab": {
          "base_uri": "https://localhost:8080/",
          "height": 641
        },
        "id": "GzdmBf7Lh4GU",
        "outputId": "349c8c1c-d2fd-457f-b8f3-9e8886f993fc"
      },
      "outputs": [
        {
          "data": {
            "text/html": [
              "\n",
              "  <div id=\"df-1fe31c29-5a6a-4a05-8a54-31e42cb080cc\">\n",
              "    <div class=\"colab-df-container\">\n",
              "      <div>\n",
              "<style scoped>\n",
              "    .dataframe tbody tr th:only-of-type {\n",
              "        vertical-align: middle;\n",
              "    }\n",
              "\n",
              "    .dataframe tbody tr th {\n",
              "        vertical-align: top;\n",
              "    }\n",
              "\n",
              "    .dataframe thead th {\n",
              "        text-align: right;\n",
              "    }\n",
              "</style>\n",
              "<table border=\"1\" class=\"dataframe\">\n",
              "  <thead>\n",
              "    <tr style=\"text-align: right;\">\n",
              "      <th></th>\n",
              "      <th>time</th>\n",
              "      <th>Cyclone_Inlet_Gas_Temp</th>\n",
              "      <th>Cyclone_Material_Temp</th>\n",
              "      <th>Cyclone_Outlet_Gas_draft</th>\n",
              "      <th>Cyclone_cone_draft</th>\n",
              "      <th>Cyclone_Gas_Outlet_Temp</th>\n",
              "      <th>Cyclone_Inlet_Draft</th>\n",
              "    </tr>\n",
              "  </thead>\n",
              "  <tbody>\n",
              "    <tr>\n",
              "      <th>0</th>\n",
              "      <td>2017-01-01 00:00:00</td>\n",
              "      <td>867.63</td>\n",
              "      <td>910.42</td>\n",
              "      <td>-189.54</td>\n",
              "      <td>-186.04</td>\n",
              "      <td>852.13</td>\n",
              "      <td>-145.9</td>\n",
              "    </tr>\n",
              "    <tr>\n",
              "      <th>1</th>\n",
              "      <td>2017-01-01 00:05:00</td>\n",
              "      <td>879.23</td>\n",
              "      <td>918.14</td>\n",
              "      <td>-184.33</td>\n",
              "      <td>-182.1</td>\n",
              "      <td>862.53</td>\n",
              "      <td>-149.76</td>\n",
              "    </tr>\n",
              "    <tr>\n",
              "      <th>2</th>\n",
              "      <td>2017-01-01 00:10:00</td>\n",
              "      <td>875.67</td>\n",
              "      <td>924.18</td>\n",
              "      <td>-181.26</td>\n",
              "      <td>-166.47</td>\n",
              "      <td>866.06</td>\n",
              "      <td>-145.01</td>\n",
              "    </tr>\n",
              "    <tr>\n",
              "      <th>3</th>\n",
              "      <td>2017-01-01 00:15:00</td>\n",
              "      <td>875.28</td>\n",
              "      <td>923.15</td>\n",
              "      <td>-179.15</td>\n",
              "      <td>-174.83</td>\n",
              "      <td>865.85</td>\n",
              "      <td>-142.82</td>\n",
              "    </tr>\n",
              "    <tr>\n",
              "      <th>4</th>\n",
              "      <td>2017-01-01 00:20:00</td>\n",
              "      <td>891.66</td>\n",
              "      <td>934.26</td>\n",
              "      <td>-178.32</td>\n",
              "      <td>-173.72</td>\n",
              "      <td>876.06</td>\n",
              "      <td>-143.39</td>\n",
              "    </tr>\n",
              "    <tr>\n",
              "      <th>...</th>\n",
              "      <td>...</td>\n",
              "      <td>...</td>\n",
              "      <td>...</td>\n",
              "      <td>...</td>\n",
              "      <td>...</td>\n",
              "      <td>...</td>\n",
              "      <td>...</td>\n",
              "    </tr>\n",
              "    <tr>\n",
              "      <th>377714</th>\n",
              "      <td>2020-08-07 11:55:00</td>\n",
              "      <td>899.42</td>\n",
              "      <td>919.79</td>\n",
              "      <td>-224.07</td>\n",
              "      <td>-209.77</td>\n",
              "      <td>901.01</td>\n",
              "      <td>-175.15</td>\n",
              "    </tr>\n",
              "    <tr>\n",
              "      <th>377715</th>\n",
              "      <td>2020-08-07 12:00:00</td>\n",
              "      <td>879.90</td>\n",
              "      <td>895.02</td>\n",
              "      <td>-228.04</td>\n",
              "      <td>-211.28</td>\n",
              "      <td>878.08</td>\n",
              "      <td>-176.94</td>\n",
              "    </tr>\n",
              "    <tr>\n",
              "      <th>377716</th>\n",
              "      <td>2020-08-07 12:05:00</td>\n",
              "      <td>887.20</td>\n",
              "      <td>895.7</td>\n",
              "      <td>-230.11</td>\n",
              "      <td>-214.65</td>\n",
              "      <td>885.32</td>\n",
              "      <td>-179.18</td>\n",
              "    </tr>\n",
              "    <tr>\n",
              "      <th>377717</th>\n",
              "      <td>2020-08-07 12:10:00</td>\n",
              "      <td>908.50</td>\n",
              "      <td>916.33</td>\n",
              "      <td>-231.51</td>\n",
              "      <td>-218.09</td>\n",
              "      <td>906.2</td>\n",
              "      <td>-181.96</td>\n",
              "    </tr>\n",
              "    <tr>\n",
              "      <th>377718</th>\n",
              "      <td>2020-08-07 12:15:00</td>\n",
              "      <td>880.86</td>\n",
              "      <td>905.31</td>\n",
              "      <td>-235.02</td>\n",
              "      <td>-219.44</td>\n",
              "      <td>882.1</td>\n",
              "      <td>-184.02</td>\n",
              "    </tr>\n",
              "  </tbody>\n",
              "</table>\n",
              "<p>377719 rows × 7 columns</p>\n",
              "</div>\n",
              "      <button class=\"colab-df-convert\" onclick=\"convertToInteractive('df-1fe31c29-5a6a-4a05-8a54-31e42cb080cc')\"\n",
              "              title=\"Convert this dataframe to an interactive table.\"\n",
              "              style=\"display:none;\">\n",
              "        \n",
              "  <svg xmlns=\"http://www.w3.org/2000/svg\" height=\"24px\"viewBox=\"0 0 24 24\"\n",
              "       width=\"24px\">\n",
              "    <path d=\"M0 0h24v24H0V0z\" fill=\"none\"/>\n",
              "    <path d=\"M18.56 5.44l.94 2.06.94-2.06 2.06-.94-2.06-.94-.94-2.06-.94 2.06-2.06.94zm-11 1L8.5 8.5l.94-2.06 2.06-.94-2.06-.94L8.5 2.5l-.94 2.06-2.06.94zm10 10l.94 2.06.94-2.06 2.06-.94-2.06-.94-.94-2.06-.94 2.06-2.06.94z\"/><path d=\"M17.41 7.96l-1.37-1.37c-.4-.4-.92-.59-1.43-.59-.52 0-1.04.2-1.43.59L10.3 9.45l-7.72 7.72c-.78.78-.78 2.05 0 2.83L4 21.41c.39.39.9.59 1.41.59.51 0 1.02-.2 1.41-.59l7.78-7.78 2.81-2.81c.8-.78.8-2.07 0-2.86zM5.41 20L4 18.59l7.72-7.72 1.47 1.35L5.41 20z\"/>\n",
              "  </svg>\n",
              "      </button>\n",
              "      \n",
              "  <style>\n",
              "    .colab-df-container {\n",
              "      display:flex;\n",
              "      flex-wrap:wrap;\n",
              "      gap: 12px;\n",
              "    }\n",
              "\n",
              "    .colab-df-convert {\n",
              "      background-color: #E8F0FE;\n",
              "      border: none;\n",
              "      border-radius: 50%;\n",
              "      cursor: pointer;\n",
              "      display: none;\n",
              "      fill: #1967D2;\n",
              "      height: 32px;\n",
              "      padding: 0 0 0 0;\n",
              "      width: 32px;\n",
              "    }\n",
              "\n",
              "    .colab-df-convert:hover {\n",
              "      background-color: #E2EBFA;\n",
              "      box-shadow: 0px 1px 2px rgba(60, 64, 67, 0.3), 0px 1px 3px 1px rgba(60, 64, 67, 0.15);\n",
              "      fill: #174EA6;\n",
              "    }\n",
              "\n",
              "    [theme=dark] .colab-df-convert {\n",
              "      background-color: #3B4455;\n",
              "      fill: #D2E3FC;\n",
              "    }\n",
              "\n",
              "    [theme=dark] .colab-df-convert:hover {\n",
              "      background-color: #434B5C;\n",
              "      box-shadow: 0px 1px 3px 1px rgba(0, 0, 0, 0.15);\n",
              "      filter: drop-shadow(0px 1px 2px rgba(0, 0, 0, 0.3));\n",
              "      fill: #FFFFFF;\n",
              "    }\n",
              "  </style>\n",
              "\n",
              "      <script>\n",
              "        const buttonEl =\n",
              "          document.querySelector('#df-1fe31c29-5a6a-4a05-8a54-31e42cb080cc button.colab-df-convert');\n",
              "        buttonEl.style.display =\n",
              "          google.colab.kernel.accessAllowed ? 'block' : 'none';\n",
              "\n",
              "        async function convertToInteractive(key) {\n",
              "          const element = document.querySelector('#df-1fe31c29-5a6a-4a05-8a54-31e42cb080cc');\n",
              "          const dataTable =\n",
              "            await google.colab.kernel.invokeFunction('convertToInteractive',\n",
              "                                                     [key], {});\n",
              "          if (!dataTable) return;\n",
              "\n",
              "          const docLinkHtml = 'Like what you see? Visit the ' +\n",
              "            '<a target=\"_blank\" href=https://colab.research.google.com/notebooks/data_table.ipynb>data table notebook</a>'\n",
              "            + ' to learn more about interactive tables.';\n",
              "          element.innerHTML = '';\n",
              "          dataTable['output_type'] = 'display_data';\n",
              "          await google.colab.output.renderOutput(dataTable, element);\n",
              "          const docLink = document.createElement('div');\n",
              "          docLink.innerHTML = docLinkHtml;\n",
              "          element.appendChild(docLink);\n",
              "        }\n",
              "      </script>\n",
              "    </div>\n",
              "  </div>\n",
              "  "
            ],
            "text/plain": [
              "                      time  Cyclone_Inlet_Gas_Temp Cyclone_Material_Temp  \\\n",
              "0      2017-01-01 00:00:00                  867.63                910.42   \n",
              "1      2017-01-01 00:05:00                  879.23                918.14   \n",
              "2      2017-01-01 00:10:00                  875.67                924.18   \n",
              "3      2017-01-01 00:15:00                  875.28                923.15   \n",
              "4      2017-01-01 00:20:00                  891.66                934.26   \n",
              "...                    ...                     ...                   ...   \n",
              "377714 2020-08-07 11:55:00                  899.42                919.79   \n",
              "377715 2020-08-07 12:00:00                  879.90                895.02   \n",
              "377716 2020-08-07 12:05:00                  887.20                 895.7   \n",
              "377717 2020-08-07 12:10:00                  908.50                916.33   \n",
              "377718 2020-08-07 12:15:00                  880.86                905.31   \n",
              "\n",
              "       Cyclone_Outlet_Gas_draft Cyclone_cone_draft Cyclone_Gas_Outlet_Temp  \\\n",
              "0                       -189.54            -186.04                  852.13   \n",
              "1                       -184.33             -182.1                  862.53   \n",
              "2                       -181.26            -166.47                  866.06   \n",
              "3                       -179.15            -174.83                  865.85   \n",
              "4                       -178.32            -173.72                  876.06   \n",
              "...                         ...                ...                     ...   \n",
              "377714                  -224.07            -209.77                  901.01   \n",
              "377715                  -228.04            -211.28                  878.08   \n",
              "377716                  -230.11            -214.65                  885.32   \n",
              "377717                  -231.51            -218.09                   906.2   \n",
              "377718                  -235.02            -219.44                   882.1   \n",
              "\n",
              "       Cyclone_Inlet_Draft  \n",
              "0                   -145.9  \n",
              "1                  -149.76  \n",
              "2                  -145.01  \n",
              "3                  -142.82  \n",
              "4                  -143.39  \n",
              "...                    ...  \n",
              "377714             -175.15  \n",
              "377715             -176.94  \n",
              "377716             -179.18  \n",
              "377717             -181.96  \n",
              "377718             -184.02  \n",
              "\n",
              "[377719 rows x 7 columns]"
            ]
          },
          "execution_count": 12,
          "metadata": {},
          "output_type": "execute_result"
        }
      ],
      "source": [
        "df2"
      ]
    },
    {
      "cell_type": "code",
      "execution_count": null,
      "metadata": {
        "id": "LXZD94fhEAyP"
      },
      "outputs": [],
      "source": [
        "df2[\"Cyclone_Material_Temp\"]= pd.to_numeric(df.Cyclone_Material_Temp  , errors='coerce')"
      ]
    },
    {
      "cell_type": "code",
      "execution_count": null,
      "metadata": {
        "id": "aeKkLNLVEAyQ"
      },
      "outputs": [],
      "source": [
        "df2[\"Cyclone_Outlet_Gas_draft\"]= pd.to_numeric(df.Cyclone_Outlet_Gas_draft  , errors='coerce')"
      ]
    },
    {
      "cell_type": "code",
      "execution_count": null,
      "metadata": {
        "id": "mWLjF2yhEAyQ"
      },
      "outputs": [],
      "source": [
        "df2[\"Cyclone_cone_draft\"]= pd.to_numeric(df.Cyclone_cone_draft  , errors='coerce')"
      ]
    },
    {
      "cell_type": "code",
      "execution_count": null,
      "metadata": {
        "id": "M0ZrmniYEAyQ"
      },
      "outputs": [],
      "source": [
        "df2[\"Cyclone_Gas_Outlet_Temp\"]= pd.to_numeric(df.Cyclone_Gas_Outlet_Temp   , errors='coerce')"
      ]
    },
    {
      "cell_type": "code",
      "execution_count": null,
      "metadata": {
        "id": "w8i5v9WkEAyR"
      },
      "outputs": [],
      "source": [
        "df2[\"Cyclone_Inlet_Draft\"]= pd.to_numeric(df.Cyclone_Inlet_Draft   , errors='coerce')"
      ]
    },
    {
      "cell_type": "code",
      "execution_count": null,
      "metadata": {
        "colab": {
          "base_uri": "https://localhost:8080/"
        },
        "id": "vJ5KoTKNYrcv",
        "outputId": "08679865-7301-438c-aef8-da6baf46ae4b"
      },
      "outputs": [
        {
          "data": {
            "text/plain": [
              "time                        datetime64[ns]\n",
              "Cyclone_Inlet_Gas_Temp             float64\n",
              "Cyclone_Material_Temp              float64\n",
              "Cyclone_Outlet_Gas_draft           float64\n",
              "Cyclone_cone_draft                 float64\n",
              "Cyclone_Gas_Outlet_Temp            float64\n",
              "Cyclone_Inlet_Draft                float64\n",
              "dtype: object"
            ]
          },
          "execution_count": 18,
          "metadata": {},
          "output_type": "execute_result"
        }
      ],
      "source": [
        "df2.dtypes"
      ]
    },
    {
      "cell_type": "markdown",
      "metadata": {
        "id": "Xhwr8kUSPEYp"
      },
      "source": [
        "Time column is set as index of dataframe\n"
      ]
    },
    {
      "cell_type": "code",
      "execution_count": null,
      "metadata": {
        "id": "fZxCc_EkdvLw"
      },
      "outputs": [],
      "source": [
        "df2['time'] = pd.to_datetime(df2['time'], format='%Y-%m-%d %H:%M:%S')\n",
        "df2.set_index(['time'],inplace=True)\n"
      ]
    },
    {
      "cell_type": "markdown",
      "metadata": {
        "id": "AYrswrKvPbLC"
      },
      "source": [
        "# Check the missing values"
      ]
    },
    {
      "cell_type": "code",
      "execution_count": null,
      "metadata": {
        "colab": {
          "base_uri": "https://localhost:8080/"
        },
        "id": "eoba1dBZFfzx",
        "outputId": "f2946bf8-6b08-46d3-8e91-fa7b74bd7902"
      },
      "outputs": [
        {
          "data": {
            "text/plain": [
              "Cyclone_Inlet_Gas_Temp      1320\n",
              "Cyclone_Material_Temp       1591\n",
              "Cyclone_Outlet_Gas_draft    1321\n",
              "Cyclone_cone_draft          1320\n",
              "Cyclone_Gas_Outlet_Temp     1321\n",
              "Cyclone_Inlet_Draft         1322\n",
              "dtype: int64"
            ]
          },
          "execution_count": 20,
          "metadata": {},
          "output_type": "execute_result"
        }
      ],
      "source": [
        "\n",
        "\n",
        "df2.isnull().sum()"
      ]
    },
    {
      "cell_type": "code",
      "execution_count": null,
      "metadata": {
        "colab": {
          "base_uri": "https://localhost:8080/"
        },
        "id": "_ERNFD_QFrTT",
        "outputId": "ef618377-d1a5-40a9-a787-ed3a6b69d5d8"
      },
      "outputs": [
        {
          "name": "stdout",
          "output_type": "stream",
          "text": [
            "                     Cyclone_Inlet_Gas_Temp  Cyclone_Material_Temp  \\\n",
            "time                                                                 \n",
            "2017-01-01 00:00:00                  867.63                 910.42   \n",
            "2017-01-01 00:05:00                  879.23                 918.14   \n",
            "2017-01-01 00:10:00                  875.67                 924.18   \n",
            "2017-01-01 00:15:00                  875.28                 923.15   \n",
            "2017-01-01 00:20:00                  891.66                 934.26   \n",
            "...                                     ...                    ...   \n",
            "2020-08-07 11:55:00                  899.42                 919.79   \n",
            "2020-08-07 12:00:00                  879.90                 895.02   \n",
            "2020-08-07 12:05:00                  887.20                 895.70   \n",
            "2020-08-07 12:10:00                  908.50                 916.33   \n",
            "2020-08-07 12:15:00                  880.86                 905.31   \n",
            "\n",
            "                     Cyclone_Outlet_Gas_draft  Cyclone_cone_draft  \\\n",
            "time                                                                \n",
            "2017-01-01 00:00:00                   -189.54             -186.04   \n",
            "2017-01-01 00:05:00                   -184.33             -182.10   \n",
            "2017-01-01 00:10:00                   -181.26             -166.47   \n",
            "2017-01-01 00:15:00                   -179.15             -174.83   \n",
            "2017-01-01 00:20:00                   -178.32             -173.72   \n",
            "...                                       ...                 ...   \n",
            "2020-08-07 11:55:00                   -224.07             -209.77   \n",
            "2020-08-07 12:00:00                   -228.04             -211.28   \n",
            "2020-08-07 12:05:00                   -230.11             -214.65   \n",
            "2020-08-07 12:10:00                   -231.51             -218.09   \n",
            "2020-08-07 12:15:00                   -235.02             -219.44   \n",
            "\n",
            "                     Cyclone_Gas_Outlet_Temp  Cyclone_Inlet_Draft  \n",
            "time                                                               \n",
            "2017-01-01 00:00:00                   852.13              -145.90  \n",
            "2017-01-01 00:05:00                   862.53              -149.76  \n",
            "2017-01-01 00:10:00                   866.06              -145.01  \n",
            "2017-01-01 00:15:00                   865.85              -142.82  \n",
            "2017-01-01 00:20:00                   876.06              -143.39  \n",
            "...                                      ...                  ...  \n",
            "2020-08-07 11:55:00                   901.01              -175.15  \n",
            "2020-08-07 12:00:00                   878.08              -176.94  \n",
            "2020-08-07 12:05:00                   885.32              -179.18  \n",
            "2020-08-07 12:10:00                   906.20              -181.96  \n",
            "2020-08-07 12:15:00                   882.10              -184.02  \n",
            "\n",
            "[377719 rows x 6 columns]\n"
          ]
        }
      ],
      "source": [
        "print(df2)"
      ]
    },
    {
      "cell_type": "code",
      "execution_count": null,
      "metadata": {
        "id": "43JfkQSfE-KF"
      },
      "outputs": [],
      "source": [
        "df3=df2.copy()"
      ]
    },
    {
      "cell_type": "markdown",
      "metadata": {
        "id": "c_o3VJzXPiOn"
      },
      "source": [
        "Using pandas.dataframe.interpolate,missing values are interpolated using linear method\n"
      ]
    },
    {
      "cell_type": "code",
      "execution_count": null,
      "metadata": {
        "id": "T1-2o7Sth97L"
      },
      "outputs": [],
      "source": [
        "df3=df3.interpolate(method ='linear', limit_direction ='forward') "
      ]
    },
    {
      "cell_type": "code",
      "execution_count": null,
      "metadata": {
        "colab": {
          "base_uri": "https://localhost:8080/",
          "height": 81
        },
        "id": "f8RRGm4MiBMk",
        "outputId": "35f8aa34-4e9a-45f6-99cb-6127e41e678c"
      },
      "outputs": [
        {
          "data": {
            "text/html": [
              "\n",
              "  <div id=\"df-5098d22f-dcca-4bb4-be95-c6bbe6dfb20e\">\n",
              "    <div class=\"colab-df-container\">\n",
              "      <div>\n",
              "<style scoped>\n",
              "    .dataframe tbody tr th:only-of-type {\n",
              "        vertical-align: middle;\n",
              "    }\n",
              "\n",
              "    .dataframe tbody tr th {\n",
              "        vertical-align: top;\n",
              "    }\n",
              "\n",
              "    .dataframe thead th {\n",
              "        text-align: right;\n",
              "    }\n",
              "</style>\n",
              "<table border=\"1\" class=\"dataframe\">\n",
              "  <thead>\n",
              "    <tr style=\"text-align: right;\">\n",
              "      <th></th>\n",
              "      <th>Cyclone_Inlet_Gas_Temp</th>\n",
              "      <th>Cyclone_Material_Temp</th>\n",
              "      <th>Cyclone_Outlet_Gas_draft</th>\n",
              "      <th>Cyclone_cone_draft</th>\n",
              "      <th>Cyclone_Gas_Outlet_Temp</th>\n",
              "      <th>Cyclone_Inlet_Draft</th>\n",
              "    </tr>\n",
              "    <tr>\n",
              "      <th>time</th>\n",
              "      <th></th>\n",
              "      <th></th>\n",
              "      <th></th>\n",
              "      <th></th>\n",
              "      <th></th>\n",
              "      <th></th>\n",
              "    </tr>\n",
              "  </thead>\n",
              "  <tbody>\n",
              "  </tbody>\n",
              "</table>\n",
              "</div>\n",
              "      <button class=\"colab-df-convert\" onclick=\"convertToInteractive('df-5098d22f-dcca-4bb4-be95-c6bbe6dfb20e')\"\n",
              "              title=\"Convert this dataframe to an interactive table.\"\n",
              "              style=\"display:none;\">\n",
              "        \n",
              "  <svg xmlns=\"http://www.w3.org/2000/svg\" height=\"24px\"viewBox=\"0 0 24 24\"\n",
              "       width=\"24px\">\n",
              "    <path d=\"M0 0h24v24H0V0z\" fill=\"none\"/>\n",
              "    <path d=\"M18.56 5.44l.94 2.06.94-2.06 2.06-.94-2.06-.94-.94-2.06-.94 2.06-2.06.94zm-11 1L8.5 8.5l.94-2.06 2.06-.94-2.06-.94L8.5 2.5l-.94 2.06-2.06.94zm10 10l.94 2.06.94-2.06 2.06-.94-2.06-.94-.94-2.06-.94 2.06-2.06.94z\"/><path d=\"M17.41 7.96l-1.37-1.37c-.4-.4-.92-.59-1.43-.59-.52 0-1.04.2-1.43.59L10.3 9.45l-7.72 7.72c-.78.78-.78 2.05 0 2.83L4 21.41c.39.39.9.59 1.41.59.51 0 1.02-.2 1.41-.59l7.78-7.78 2.81-2.81c.8-.78.8-2.07 0-2.86zM5.41 20L4 18.59l7.72-7.72 1.47 1.35L5.41 20z\"/>\n",
              "  </svg>\n",
              "      </button>\n",
              "      \n",
              "  <style>\n",
              "    .colab-df-container {\n",
              "      display:flex;\n",
              "      flex-wrap:wrap;\n",
              "      gap: 12px;\n",
              "    }\n",
              "\n",
              "    .colab-df-convert {\n",
              "      background-color: #E8F0FE;\n",
              "      border: none;\n",
              "      border-radius: 50%;\n",
              "      cursor: pointer;\n",
              "      display: none;\n",
              "      fill: #1967D2;\n",
              "      height: 32px;\n",
              "      padding: 0 0 0 0;\n",
              "      width: 32px;\n",
              "    }\n",
              "\n",
              "    .colab-df-convert:hover {\n",
              "      background-color: #E2EBFA;\n",
              "      box-shadow: 0px 1px 2px rgba(60, 64, 67, 0.3), 0px 1px 3px 1px rgba(60, 64, 67, 0.15);\n",
              "      fill: #174EA6;\n",
              "    }\n",
              "\n",
              "    [theme=dark] .colab-df-convert {\n",
              "      background-color: #3B4455;\n",
              "      fill: #D2E3FC;\n",
              "    }\n",
              "\n",
              "    [theme=dark] .colab-df-convert:hover {\n",
              "      background-color: #434B5C;\n",
              "      box-shadow: 0px 1px 3px 1px rgba(0, 0, 0, 0.15);\n",
              "      filter: drop-shadow(0px 1px 2px rgba(0, 0, 0, 0.3));\n",
              "      fill: #FFFFFF;\n",
              "    }\n",
              "  </style>\n",
              "\n",
              "      <script>\n",
              "        const buttonEl =\n",
              "          document.querySelector('#df-5098d22f-dcca-4bb4-be95-c6bbe6dfb20e button.colab-df-convert');\n",
              "        buttonEl.style.display =\n",
              "          google.colab.kernel.accessAllowed ? 'block' : 'none';\n",
              "\n",
              "        async function convertToInteractive(key) {\n",
              "          const element = document.querySelector('#df-5098d22f-dcca-4bb4-be95-c6bbe6dfb20e');\n",
              "          const dataTable =\n",
              "            await google.colab.kernel.invokeFunction('convertToInteractive',\n",
              "                                                     [key], {});\n",
              "          if (!dataTable) return;\n",
              "\n",
              "          const docLinkHtml = 'Like what you see? Visit the ' +\n",
              "            '<a target=\"_blank\" href=https://colab.research.google.com/notebooks/data_table.ipynb>data table notebook</a>'\n",
              "            + ' to learn more about interactive tables.';\n",
              "          element.innerHTML = '';\n",
              "          dataTable['output_type'] = 'display_data';\n",
              "          await google.colab.output.renderOutput(dataTable, element);\n",
              "          const docLink = document.createElement('div');\n",
              "          docLink.innerHTML = docLinkHtml;\n",
              "          element.appendChild(docLink);\n",
              "        }\n",
              "      </script>\n",
              "    </div>\n",
              "  </div>\n",
              "  "
            ],
            "text/plain": [
              "Empty DataFrame\n",
              "Columns: [Cyclone_Inlet_Gas_Temp, Cyclone_Material_Temp, Cyclone_Outlet_Gas_draft, Cyclone_cone_draft, Cyclone_Gas_Outlet_Temp, Cyclone_Inlet_Draft]\n",
              "Index: []"
            ]
          },
          "execution_count": 24,
          "metadata": {},
          "output_type": "execute_result"
        }
      ],
      "source": [
        "df3.query(\"Cyclone_Material_Temp\t!=Cyclone_Material_Temp\t\")"
      ]
    },
    {
      "cell_type": "code",
      "execution_count": null,
      "metadata": {
        "colab": {
          "base_uri": "https://localhost:8080/"
        },
        "id": "cAoFQ7EYiOgc",
        "outputId": "9817a4bd-74d2-48ce-fcda-a278398ee586"
      },
      "outputs": [
        {
          "data": {
            "text/plain": [
              "Cyclone_Inlet_Gas_Temp      0\n",
              "Cyclone_Material_Temp       0\n",
              "Cyclone_Outlet_Gas_draft    0\n",
              "Cyclone_cone_draft          0\n",
              "Cyclone_Gas_Outlet_Temp     0\n",
              "Cyclone_Inlet_Draft         0\n",
              "dtype: int64"
            ]
          },
          "execution_count": 25,
          "metadata": {},
          "output_type": "execute_result"
        }
      ],
      "source": [
        "df3.isnull().sum()"
      ]
    },
    {
      "cell_type": "markdown",
      "metadata": {
        "id": "5Bt4Eon3P3CD"
      },
      "source": [
        "The observations are recorded in over 370k with each observation is recorded within 5 minutes. The dataset needs to be downsampled to reduce the frequency of observations so it can undergo Adfuller Dickey Test for stationarity check\n",
        "\n",
        "The observation is downsampled to a daily frequency"
      ]
    },
    {
      "cell_type": "code",
      "execution_count": null,
      "metadata": {
        "id": "mUMntJ8GVtpw"
      },
      "outputs": [],
      "source": [
        "df3=df3.resample('4H')"
      ]
    },
    {
      "cell_type": "code",
      "execution_count": null,
      "metadata": {
        "id": "MwSVl-6yF5ep"
      },
      "outputs": [],
      "source": []
    },
    {
      "cell_type": "code",
      "execution_count": null,
      "metadata": {
        "colab": {
          "base_uri": "https://localhost:8080/"
        },
        "id": "Al9_eN5HVwt4",
        "outputId": "5c79178c-dd15-4a45-fc7f-345689373e31"
      },
      "outputs": [
        {
          "name": "stdout",
          "output_type": "stream",
          "text": [
            "DatetimeIndexResampler [freq=<4 * Hours>, axis=0, closed=left, label=left, convention=start, origin=start_day]\n"
          ]
        }
      ],
      "source": [
        "print(df3)"
      ]
    },
    {
      "cell_type": "code",
      "execution_count": null,
      "metadata": {
        "colab": {
          "base_uri": "https://localhost:8080/",
          "height": 499
        },
        "id": "0-uWmJ3_WC3E",
        "outputId": "d90f1b67-e09d-4e98-8d98-87b2861220a3"
      },
      "outputs": [
        {
          "data": {
            "text/html": [
              "\n",
              "  <div id=\"df-c108403d-5cfa-4d8c-b62c-eef8ca95a57a\">\n",
              "    <div class=\"colab-df-container\">\n",
              "      <div>\n",
              "<style scoped>\n",
              "    .dataframe tbody tr th:only-of-type {\n",
              "        vertical-align: middle;\n",
              "    }\n",
              "\n",
              "    .dataframe tbody tr th {\n",
              "        vertical-align: top;\n",
              "    }\n",
              "\n",
              "    .dataframe thead th {\n",
              "        text-align: right;\n",
              "    }\n",
              "</style>\n",
              "<table border=\"1\" class=\"dataframe\">\n",
              "  <thead>\n",
              "    <tr style=\"text-align: right;\">\n",
              "      <th></th>\n",
              "      <th>Cyclone_Inlet_Gas_Temp</th>\n",
              "      <th>Cyclone_Material_Temp</th>\n",
              "      <th>Cyclone_Outlet_Gas_draft</th>\n",
              "      <th>Cyclone_cone_draft</th>\n",
              "      <th>Cyclone_Gas_Outlet_Temp</th>\n",
              "      <th>Cyclone_Inlet_Draft</th>\n",
              "    </tr>\n",
              "    <tr>\n",
              "      <th>time</th>\n",
              "      <th></th>\n",
              "      <th></th>\n",
              "      <th></th>\n",
              "      <th></th>\n",
              "      <th></th>\n",
              "      <th></th>\n",
              "    </tr>\n",
              "  </thead>\n",
              "  <tbody>\n",
              "    <tr>\n",
              "      <th>2017-01-01 00:00:00</th>\n",
              "      <td>867.63</td>\n",
              "      <td>910.42</td>\n",
              "      <td>-189.54</td>\n",
              "      <td>-186.04</td>\n",
              "      <td>852.13</td>\n",
              "      <td>-145.90</td>\n",
              "    </tr>\n",
              "    <tr>\n",
              "      <th>2017-01-01 04:00:00</th>\n",
              "      <td>867.31</td>\n",
              "      <td>946.88</td>\n",
              "      <td>-175.76</td>\n",
              "      <td>-153.91</td>\n",
              "      <td>878.19</td>\n",
              "      <td>-134.76</td>\n",
              "    </tr>\n",
              "    <tr>\n",
              "      <th>2017-01-01 08:00:00</th>\n",
              "      <td>876.41</td>\n",
              "      <td>911.41</td>\n",
              "      <td>-175.91</td>\n",
              "      <td>-171.55</td>\n",
              "      <td>862.48</td>\n",
              "      <td>-144.66</td>\n",
              "    </tr>\n",
              "    <tr>\n",
              "      <th>2017-01-01 12:00:00</th>\n",
              "      <td>867.67</td>\n",
              "      <td>940.05</td>\n",
              "      <td>-176.64</td>\n",
              "      <td>-145.80</td>\n",
              "      <td>862.81</td>\n",
              "      <td>-136.29</td>\n",
              "    </tr>\n",
              "    <tr>\n",
              "      <th>2017-01-01 16:00:00</th>\n",
              "      <td>887.87</td>\n",
              "      <td>952.50</td>\n",
              "      <td>-177.52</td>\n",
              "      <td>-177.36</td>\n",
              "      <td>880.50</td>\n",
              "      <td>-137.38</td>\n",
              "    </tr>\n",
              "    <tr>\n",
              "      <th>...</th>\n",
              "      <td>...</td>\n",
              "      <td>...</td>\n",
              "      <td>...</td>\n",
              "      <td>...</td>\n",
              "      <td>...</td>\n",
              "      <td>...</td>\n",
              "    </tr>\n",
              "    <tr>\n",
              "      <th>2020-08-06 20:00:00</th>\n",
              "      <td>878.99</td>\n",
              "      <td>888.85</td>\n",
              "      <td>-230.51</td>\n",
              "      <td>-210.75</td>\n",
              "      <td>876.16</td>\n",
              "      <td>-182.26</td>\n",
              "    </tr>\n",
              "    <tr>\n",
              "      <th>2020-08-07 00:00:00</th>\n",
              "      <td>929.69</td>\n",
              "      <td>958.72</td>\n",
              "      <td>-220.10</td>\n",
              "      <td>-185.68</td>\n",
              "      <td>934.05</td>\n",
              "      <td>-170.11</td>\n",
              "    </tr>\n",
              "    <tr>\n",
              "      <th>2020-08-07 04:00:00</th>\n",
              "      <td>883.08</td>\n",
              "      <td>901.36</td>\n",
              "      <td>-226.58</td>\n",
              "      <td>-199.38</td>\n",
              "      <td>882.61</td>\n",
              "      <td>-173.07</td>\n",
              "    </tr>\n",
              "    <tr>\n",
              "      <th>2020-08-07 08:00:00</th>\n",
              "      <td>884.15</td>\n",
              "      <td>899.02</td>\n",
              "      <td>-229.05</td>\n",
              "      <td>-211.64</td>\n",
              "      <td>884.31</td>\n",
              "      <td>-180.08</td>\n",
              "    </tr>\n",
              "    <tr>\n",
              "      <th>2020-08-07 12:00:00</th>\n",
              "      <td>879.90</td>\n",
              "      <td>895.02</td>\n",
              "      <td>-228.04</td>\n",
              "      <td>-211.28</td>\n",
              "      <td>878.08</td>\n",
              "      <td>-176.94</td>\n",
              "    </tr>\n",
              "  </tbody>\n",
              "</table>\n",
              "<p>7888 rows × 6 columns</p>\n",
              "</div>\n",
              "      <button class=\"colab-df-convert\" onclick=\"convertToInteractive('df-c108403d-5cfa-4d8c-b62c-eef8ca95a57a')\"\n",
              "              title=\"Convert this dataframe to an interactive table.\"\n",
              "              style=\"display:none;\">\n",
              "        \n",
              "  <svg xmlns=\"http://www.w3.org/2000/svg\" height=\"24px\"viewBox=\"0 0 24 24\"\n",
              "       width=\"24px\">\n",
              "    <path d=\"M0 0h24v24H0V0z\" fill=\"none\"/>\n",
              "    <path d=\"M18.56 5.44l.94 2.06.94-2.06 2.06-.94-2.06-.94-.94-2.06-.94 2.06-2.06.94zm-11 1L8.5 8.5l.94-2.06 2.06-.94-2.06-.94L8.5 2.5l-.94 2.06-2.06.94zm10 10l.94 2.06.94-2.06 2.06-.94-2.06-.94-.94-2.06-.94 2.06-2.06.94z\"/><path d=\"M17.41 7.96l-1.37-1.37c-.4-.4-.92-.59-1.43-.59-.52 0-1.04.2-1.43.59L10.3 9.45l-7.72 7.72c-.78.78-.78 2.05 0 2.83L4 21.41c.39.39.9.59 1.41.59.51 0 1.02-.2 1.41-.59l7.78-7.78 2.81-2.81c.8-.78.8-2.07 0-2.86zM5.41 20L4 18.59l7.72-7.72 1.47 1.35L5.41 20z\"/>\n",
              "  </svg>\n",
              "      </button>\n",
              "      \n",
              "  <style>\n",
              "    .colab-df-container {\n",
              "      display:flex;\n",
              "      flex-wrap:wrap;\n",
              "      gap: 12px;\n",
              "    }\n",
              "\n",
              "    .colab-df-convert {\n",
              "      background-color: #E8F0FE;\n",
              "      border: none;\n",
              "      border-radius: 50%;\n",
              "      cursor: pointer;\n",
              "      display: none;\n",
              "      fill: #1967D2;\n",
              "      height: 32px;\n",
              "      padding: 0 0 0 0;\n",
              "      width: 32px;\n",
              "    }\n",
              "\n",
              "    .colab-df-convert:hover {\n",
              "      background-color: #E2EBFA;\n",
              "      box-shadow: 0px 1px 2px rgba(60, 64, 67, 0.3), 0px 1px 3px 1px rgba(60, 64, 67, 0.15);\n",
              "      fill: #174EA6;\n",
              "    }\n",
              "\n",
              "    [theme=dark] .colab-df-convert {\n",
              "      background-color: #3B4455;\n",
              "      fill: #D2E3FC;\n",
              "    }\n",
              "\n",
              "    [theme=dark] .colab-df-convert:hover {\n",
              "      background-color: #434B5C;\n",
              "      box-shadow: 0px 1px 3px 1px rgba(0, 0, 0, 0.15);\n",
              "      filter: drop-shadow(0px 1px 2px rgba(0, 0, 0, 0.3));\n",
              "      fill: #FFFFFF;\n",
              "    }\n",
              "  </style>\n",
              "\n",
              "      <script>\n",
              "        const buttonEl =\n",
              "          document.querySelector('#df-c108403d-5cfa-4d8c-b62c-eef8ca95a57a button.colab-df-convert');\n",
              "        buttonEl.style.display =\n",
              "          google.colab.kernel.accessAllowed ? 'block' : 'none';\n",
              "\n",
              "        async function convertToInteractive(key) {\n",
              "          const element = document.querySelector('#df-c108403d-5cfa-4d8c-b62c-eef8ca95a57a');\n",
              "          const dataTable =\n",
              "            await google.colab.kernel.invokeFunction('convertToInteractive',\n",
              "                                                     [key], {});\n",
              "          if (!dataTable) return;\n",
              "\n",
              "          const docLinkHtml = 'Like what you see? Visit the ' +\n",
              "            '<a target=\"_blank\" href=https://colab.research.google.com/notebooks/data_table.ipynb>data table notebook</a>'\n",
              "            + ' to learn more about interactive tables.';\n",
              "          element.innerHTML = '';\n",
              "          dataTable['output_type'] = 'display_data';\n",
              "          await google.colab.output.renderOutput(dataTable, element);\n",
              "          const docLink = document.createElement('div');\n",
              "          docLink.innerHTML = docLinkHtml;\n",
              "          element.appendChild(docLink);\n",
              "        }\n",
              "      </script>\n",
              "    </div>\n",
              "  </div>\n",
              "  "
            ],
            "text/plain": [
              "                     Cyclone_Inlet_Gas_Temp  Cyclone_Material_Temp  \\\n",
              "time                                                                 \n",
              "2017-01-01 00:00:00                  867.63                 910.42   \n",
              "2017-01-01 04:00:00                  867.31                 946.88   \n",
              "2017-01-01 08:00:00                  876.41                 911.41   \n",
              "2017-01-01 12:00:00                  867.67                 940.05   \n",
              "2017-01-01 16:00:00                  887.87                 952.50   \n",
              "...                                     ...                    ...   \n",
              "2020-08-06 20:00:00                  878.99                 888.85   \n",
              "2020-08-07 00:00:00                  929.69                 958.72   \n",
              "2020-08-07 04:00:00                  883.08                 901.36   \n",
              "2020-08-07 08:00:00                  884.15                 899.02   \n",
              "2020-08-07 12:00:00                  879.90                 895.02   \n",
              "\n",
              "                     Cyclone_Outlet_Gas_draft  Cyclone_cone_draft  \\\n",
              "time                                                                \n",
              "2017-01-01 00:00:00                   -189.54             -186.04   \n",
              "2017-01-01 04:00:00                   -175.76             -153.91   \n",
              "2017-01-01 08:00:00                   -175.91             -171.55   \n",
              "2017-01-01 12:00:00                   -176.64             -145.80   \n",
              "2017-01-01 16:00:00                   -177.52             -177.36   \n",
              "...                                       ...                 ...   \n",
              "2020-08-06 20:00:00                   -230.51             -210.75   \n",
              "2020-08-07 00:00:00                   -220.10             -185.68   \n",
              "2020-08-07 04:00:00                   -226.58             -199.38   \n",
              "2020-08-07 08:00:00                   -229.05             -211.64   \n",
              "2020-08-07 12:00:00                   -228.04             -211.28   \n",
              "\n",
              "                     Cyclone_Gas_Outlet_Temp  Cyclone_Inlet_Draft  \n",
              "time                                                               \n",
              "2017-01-01 00:00:00                   852.13              -145.90  \n",
              "2017-01-01 04:00:00                   878.19              -134.76  \n",
              "2017-01-01 08:00:00                   862.48              -144.66  \n",
              "2017-01-01 12:00:00                   862.81              -136.29  \n",
              "2017-01-01 16:00:00                   880.50              -137.38  \n",
              "...                                      ...                  ...  \n",
              "2020-08-06 20:00:00                   876.16              -182.26  \n",
              "2020-08-07 00:00:00                   934.05              -170.11  \n",
              "2020-08-07 04:00:00                   882.61              -173.07  \n",
              "2020-08-07 08:00:00                   884.31              -180.08  \n",
              "2020-08-07 12:00:00                   878.08              -176.94  \n",
              "\n",
              "[7888 rows x 6 columns]"
            ]
          },
          "execution_count": 28,
          "metadata": {},
          "output_type": "execute_result"
        }
      ],
      "source": [
        "interpolated = df3.interpolate(method='linear')\n",
        "interpolated"
      ]
    },
    {
      "cell_type": "code",
      "execution_count": null,
      "metadata": {
        "colab": {
          "base_uri": "https://localhost:8080/",
          "height": 308
        },
        "id": "taVemW_bhHYK",
        "outputId": "f314d0b0-b0d8-4c76-8bd0-732c4514ad4d"
      },
      "outputs": [
        {
          "data": {
            "text/plain": [
              "<matplotlib.axes._subplots.AxesSubplot at 0x7f12094b6f90>"
            ]
          },
          "execution_count": 29,
          "metadata": {},
          "output_type": "execute_result"
        },
        {
          "data": {
            "image/png": "[encoded data removed]",
            "text/plain": [
              "<Figure size 432x288 with 1 Axes>"
            ]
          },
          "metadata": {},
          "output_type": "display_data"
        }
      ],
      "source": [
        "interpolated['Cyclone_Material_Temp'].plot()"
      ]
    },
    {
      "cell_type": "code",
      "execution_count": null,
      "metadata": {
        "colab": {
          "base_uri": "https://localhost:8080/",
          "height": 308
        },
        "id": "DI_dfLmSQ4F3",
        "outputId": "4905c67f-1131-444d-91fa-bc6c23132065"
      },
      "outputs": [
        {
          "data": {
            "text/plain": [
              "<matplotlib.axes._subplots.AxesSubplot at 0x7f11fc685410>"
            ]
          },
          "execution_count": 30,
          "metadata": {},
          "output_type": "execute_result"
        },
        {
          "data": {
            "image/png": "[encoded data removed]",
            "text/plain": [
              "<Figure size 432x288 with 1 Axes>"
            ]
          },
          "metadata": {},
          "output_type": "display_data"
        }
      ],
      "source": [
        "interpolated['Cyclone_Outlet_Gas_draft'].plot()"
      ]
    },
    {
      "cell_type": "code",
      "execution_count": null,
      "metadata": {
        "colab": {
          "base_uri": "https://localhost:8080/",
          "height": 308
        },
        "id": "qHfBwS1rRPAO",
        "outputId": "68105293-7701-4a45-aede-11e46390ebd5"
      },
      "outputs": [
        {
          "data": {
            "text/plain": [
              "<matplotlib.axes._subplots.AxesSubplot at 0x7f1202e389d0>"
            ]
          },
          "execution_count": 31,
          "metadata": {},
          "output_type": "execute_result"
        },
        {
          "data": {
            "image/png": "[encoded data removed]",
            "text/plain": [
              "<Figure size 432x288 with 1 Axes>"
            ]
          },
          "metadata": {},
          "output_type": "display_data"
        }
      ],
      "source": [
        "interpolated['Cyclone_cone_draft'].plot()"
      ]
    },
    {
      "cell_type": "code",
      "execution_count": null,
      "metadata": {
        "colab": {
          "base_uri": "https://localhost:8080/",
          "height": 308
        },
        "id": "KOGVe84qRdiL",
        "outputId": "52395798-2a31-45d3-c347-ad3f01e080a9"
      },
      "outputs": [
        {
          "data": {
            "text/plain": [
              "<matplotlib.axes._subplots.AxesSubplot at 0x7f1206e95210>"
            ]
          },
          "execution_count": 32,
          "metadata": {},
          "output_type": "execute_result"
        },
        {
          "data": {
            "image/png": "[encoded data removed]",
            "text/plain": [
              "<Figure size 432x288 with 1 Axes>"
            ]
          },
          "metadata": {},
          "output_type": "display_data"
        }
      ],
      "source": [
        "interpolated['Cyclone_Gas_Outlet_Temp'].plot()"
      ]
    },
    {
      "cell_type": "code",
      "execution_count": null,
      "metadata": {
        "colab": {
          "base_uri": "https://localhost:8080/",
          "height": 308
        },
        "id": "Kl9CR2KKRiK1",
        "outputId": "d81f8630-3950-4c13-d717-5da510b55d27"
      },
      "outputs": [
        {
          "data": {
            "text/plain": [
              "<matplotlib.axes._subplots.AxesSubplot at 0x7f12063d0e10>"
            ]
          },
          "execution_count": 33,
          "metadata": {},
          "output_type": "execute_result"
        },
        {
          "data": {
            "image/png": "[encoded data removed]",
            "text/plain": [
              "<Figure size 432x288 with 1 Axes>"
            ]
          },
          "metadata": {},
          "output_type": "display_data"
        }
      ],
      "source": [
        "interpolated['Cyclone_Inlet_Draft'].plot()"
      ]
    },
    {
      "cell_type": "code",
      "execution_count": null,
      "metadata": {
        "colab": {
          "base_uri": "https://localhost:8080/"
        },
        "id": "HNeI7jntHrcY",
        "outputId": "2635ee59-cf56-499c-e140-c98e17f970c0"
      },
      "outputs": [
        {
          "data": {
            "text/plain": [
              "(7888, 6)"
            ]
          },
          "execution_count": 34,
          "metadata": {},
          "output_type": "execute_result"
        }
      ],
      "source": [
        "interpolated.shape"
      ]
    },
    {
      "cell_type": "code",
      "execution_count": null,
      "metadata": {
        "colab": {
          "base_uri": "https://localhost:8080/"
        },
        "id": "DFGeWl_bWO2q",
        "outputId": "949fdb9c-8dce-4c6a-f8eb-f0b37466ece5"
      },
      "outputs": [
        {
          "data": {
            "text/plain": [
              "(377719, 6)"
            ]
          },
          "execution_count": 35,
          "metadata": {},
          "output_type": "execute_result"
        }
      ],
      "source": [
        "df2.shape"
      ]
    },
    {
      "cell_type": "markdown",
      "metadata": {
        "id": "orXk70YiR2su"
      },
      "source": [
        "**Check stationarity of time series using Adfuller Dickey test**"
      ]
    },
    {
      "cell_type": "code",
      "execution_count": null,
      "metadata": {
        "id": "f1raUcNXPO9i"
      },
      "outputs": [],
      "source": [
        "from statsmodels.tsa.stattools import adfuller\n",
        "def Augmented_Dickey_Fuller_Test_func(series , column_name):\n",
        "    print (f'Results of Dickey-Fuller Test for column: {column_name}')\n",
        "    dftest = adfuller(series, autolag='AIC')\n",
        "    dfoutput = pd.Series(dftest[0:4], index=['Test Statistic','p-value','No Lags Used','Number of Observations Used'])\n",
        "    for key,value in dftest[4].items():\n",
        "       dfoutput['Critical Value (%s)'%key] = value\n",
        "    print (dfoutput)\n",
        "    if dftest[1] <= 0.05:\n",
        "        print(\"Conclusion:====>\")\n",
        "        print(\"Reject the null hypothesis\")\n",
        "        print(\"Data is stationary\")\n",
        "    else:\n",
        "        print(\"Conclusion:====>\")\n",
        "        print(\"Fail to reject the null hypothesis\")\n",
        "        print(\"Data is non-stationary\")"
      ]
    },
    {
      "cell_type": "code",
      "execution_count": null,
      "metadata": {
        "colab": {
          "base_uri": "https://localhost:8080/"
        },
        "id": "m5oE01_NPome",
        "outputId": "df66c1a9-c6e2-4807-d01c-0a77bcd80a02"
      },
      "outputs": [
        {
          "data": {
            "text/plain": [
              "Index(['Cyclone_Inlet_Gas_Temp', 'Cyclone_Material_Temp',\n",
              "       'Cyclone_Outlet_Gas_draft', 'Cyclone_cone_draft',\n",
              "       'Cyclone_Gas_Outlet_Temp', 'Cyclone_Inlet_Draft'],\n",
              "      dtype='object')"
            ]
          },
          "execution_count": 37,
          "metadata": {},
          "output_type": "execute_result"
        }
      ],
      "source": [
        "interpolated.columns"
      ]
    },
    {
      "cell_type": "code",
      "execution_count": null,
      "metadata": {
        "id": "bLb1b6CMxYvS"
      },
      "outputs": [],
      "source": [
        "interpolated_diff=interpolated.diff()"
      ]
    },
    {
      "cell_type": "code",
      "execution_count": null,
      "metadata": {
        "id": "5V62qMI_w_uh"
      },
      "outputs": [],
      "source": [
        "from pmdarima.arima import auto_arima"
      ]
    },
    {
      "cell_type": "code",
      "execution_count": null,
      "metadata": {
        "id": "FecloQjoqwXB"
      },
      "outputs": [],
      "source": [
        "from statsmodels.tsa.vector_ar.var_model import VAR"
      ]
    },
    {
      "cell_type": "code",
      "execution_count": null,
      "metadata": {
        "id": "QM9i2cpRx-Lk"
      },
      "outputs": [],
      "source": [
        "interpolated_diff.dropna(inplace = True)"
      ]
    },
    {
      "cell_type": "code",
      "execution_count": null,
      "metadata": {
        "colab": {
          "base_uri": "https://localhost:8080/"
        },
        "id": "ddtAC6XYPVWT",
        "outputId": "a5e07464-a7cb-4e0f-e9e5-371b22cec27f"
      },
      "outputs": [
        {
          "name": "stdout",
          "output_type": "stream",
          "text": [
            "Results of Dickey-Fuller Test for column: Cyclone_Inlet_Gas_Temp\n",
            "Test Statistic                  -26.461580\n",
            "p-value                           0.000000\n",
            "No Lags Used                     12.000000\n",
            "Number of Observations Used    7874.000000\n",
            "Critical Value (1%)              -3.431181\n",
            "Critical Value (5%)              -2.861907\n",
            "Critical Value (10%)             -2.566965\n",
            "dtype: float64\n",
            "Conclusion:====>\n",
            "Reject the null hypothesis\n",
            "Data is stationary\n",
            "\n",
            "\n",
            "Results of Dickey-Fuller Test for column: Cyclone_Material_Temp\n",
            "Test Statistic                  -26.715587\n",
            "p-value                           0.000000\n",
            "No Lags Used                     15.000000\n",
            "Number of Observations Used    7871.000000\n",
            "Critical Value (1%)              -3.431181\n",
            "Critical Value (5%)              -2.861907\n",
            "Critical Value (10%)             -2.566965\n",
            "dtype: float64\n",
            "Conclusion:====>\n",
            "Reject the null hypothesis\n",
            "Data is stationary\n",
            "\n",
            "\n",
            "Results of Dickey-Fuller Test for column: Cyclone_Outlet_Gas_draft\n",
            "Test Statistic                  -19.559011\n",
            "p-value                           0.000000\n",
            "No Lags Used                     31.000000\n",
            "Number of Observations Used    7855.000000\n",
            "Critical Value (1%)              -3.431183\n",
            "Critical Value (5%)              -2.861908\n",
            "Critical Value (10%)             -2.566966\n",
            "dtype: float64\n",
            "Conclusion:====>\n",
            "Reject the null hypothesis\n",
            "Data is stationary\n",
            "\n",
            "\n",
            "Results of Dickey-Fuller Test for column: Cyclone_cone_draft\n",
            "Test Statistic                  -19.014494\n",
            "p-value                           0.000000\n",
            "No Lags Used                     34.000000\n",
            "Number of Observations Used    7852.000000\n",
            "Critical Value (1%)              -3.431183\n",
            "Critical Value (5%)              -2.861908\n",
            "Critical Value (10%)             -2.566966\n",
            "dtype: float64\n",
            "Conclusion:====>\n",
            "Reject the null hypothesis\n",
            "Data is stationary\n",
            "\n",
            "\n",
            "Results of Dickey-Fuller Test for column: Cyclone_Gas_Outlet_Temp\n",
            "Test Statistic                  -19.197854\n",
            "p-value                           0.000000\n",
            "No Lags Used                     26.000000\n",
            "Number of Observations Used    7860.000000\n",
            "Critical Value (1%)              -3.431182\n",
            "Critical Value (5%)              -2.861908\n",
            "Critical Value (10%)             -2.566966\n",
            "dtype: float64\n",
            "Conclusion:====>\n",
            "Reject the null hypothesis\n",
            "Data is stationary\n",
            "\n",
            "\n",
            "Results of Dickey-Fuller Test for column: Cyclone_Inlet_Draft\n",
            "Test Statistic                  -20.530670\n",
            "p-value                           0.000000\n",
            "No Lags Used                     30.000000\n",
            "Number of Observations Used    7856.000000\n",
            "Critical Value (1%)              -3.431183\n",
            "Critical Value (5%)              -2.861908\n",
            "Critical Value (10%)             -2.566966\n",
            "dtype: float64\n",
            "Conclusion:====>\n",
            "Reject the null hypothesis\n",
            "Data is stationary\n",
            "\n",
            "\n"
          ]
        }
      ],
      "source": [
        "\n",
        "for name, column in interpolated_diff[['Cyclone_Inlet_Gas_Temp', 'Cyclone_Material_Temp',\n",
        "       'Cyclone_Outlet_Gas_draft', 'Cyclone_cone_draft',\n",
        "       'Cyclone_Gas_Outlet_Temp', 'Cyclone_Inlet_Draft']].iteritems():\n",
        "    Augmented_Dickey_Fuller_Test_func(interpolated_diff[name], name)\n",
        "    print('\\n')"
      ]
    },
    {
      "cell_type": "code",
      "execution_count": null,
      "metadata": {
        "id": "nBU6pc6gadHe"
      },
      "outputs": [],
      "source": [
        "X = interpolated_diff[['Cyclone_Inlet_Gas_Temp', 'Cyclone_Material_Temp',\n",
        "       'Cyclone_Outlet_Gas_draft', 'Cyclone_cone_draft',\n",
        "       'Cyclone_Gas_Outlet_Temp', 'Cyclone_Inlet_Draft']]\n",
        "train, test = X[0:5500], X[5500:]"
      ]
    },
    {
      "cell_type": "code",
      "execution_count": null,
      "metadata": {
        "colab": {
          "base_uri": "https://localhost:8080/",
          "height": 499
        },
        "id": "kxxqjHCGxnnK",
        "outputId": "543a50d6-7249-4bf7-984a-ad5efcc667e8"
      },
      "outputs": [
        {
          "data": {
            "text/html": [
              "\n",
              "  <div id=\"df-c52bffd4-9151-4fee-968b-a6cd98ac0d33\">\n",
              "    <div class=\"colab-df-container\">\n",
              "      <div>\n",
              "<style scoped>\n",
              "    .dataframe tbody tr th:only-of-type {\n",
              "        vertical-align: middle;\n",
              "    }\n",
              "\n",
              "    .dataframe tbody tr th {\n",
              "        vertical-align: top;\n",
              "    }\n",
              "\n",
              "    .dataframe thead th {\n",
              "        text-align: right;\n",
              "    }\n",
              "</style>\n",
              "<table border=\"1\" class=\"dataframe\">\n",
              "  <thead>\n",
              "    <tr style=\"text-align: right;\">\n",
              "      <th></th>\n",
              "      <th>Cyclone_Inlet_Gas_Temp</th>\n",
              "      <th>Cyclone_Material_Temp</th>\n",
              "      <th>Cyclone_Outlet_Gas_draft</th>\n",
              "      <th>Cyclone_cone_draft</th>\n",
              "      <th>Cyclone_Gas_Outlet_Temp</th>\n",
              "      <th>Cyclone_Inlet_Draft</th>\n",
              "    </tr>\n",
              "    <tr>\n",
              "      <th>time</th>\n",
              "      <th></th>\n",
              "      <th></th>\n",
              "      <th></th>\n",
              "      <th></th>\n",
              "      <th></th>\n",
              "      <th></th>\n",
              "    </tr>\n",
              "  </thead>\n",
              "  <tbody>\n",
              "    <tr>\n",
              "      <th>2017-01-01 04:00:00</th>\n",
              "      <td>-0.32</td>\n",
              "      <td>36.46</td>\n",
              "      <td>13.78</td>\n",
              "      <td>32.13</td>\n",
              "      <td>26.06</td>\n",
              "      <td>11.14</td>\n",
              "    </tr>\n",
              "    <tr>\n",
              "      <th>2017-01-01 08:00:00</th>\n",
              "      <td>9.10</td>\n",
              "      <td>-35.47</td>\n",
              "      <td>-0.15</td>\n",
              "      <td>-17.64</td>\n",
              "      <td>-15.71</td>\n",
              "      <td>-9.90</td>\n",
              "    </tr>\n",
              "    <tr>\n",
              "      <th>2017-01-01 12:00:00</th>\n",
              "      <td>-8.74</td>\n",
              "      <td>28.64</td>\n",
              "      <td>-0.73</td>\n",
              "      <td>25.75</td>\n",
              "      <td>0.33</td>\n",
              "      <td>8.37</td>\n",
              "    </tr>\n",
              "    <tr>\n",
              "      <th>2017-01-01 16:00:00</th>\n",
              "      <td>20.20</td>\n",
              "      <td>12.45</td>\n",
              "      <td>-0.88</td>\n",
              "      <td>-31.56</td>\n",
              "      <td>17.69</td>\n",
              "      <td>-1.09</td>\n",
              "    </tr>\n",
              "    <tr>\n",
              "      <th>2017-01-01 20:00:00</th>\n",
              "      <td>-4.25</td>\n",
              "      <td>-19.65</td>\n",
              "      <td>-7.63</td>\n",
              "      <td>-3.20</td>\n",
              "      <td>-25.13</td>\n",
              "      <td>-11.06</td>\n",
              "    </tr>\n",
              "    <tr>\n",
              "      <th>...</th>\n",
              "      <td>...</td>\n",
              "      <td>...</td>\n",
              "      <td>...</td>\n",
              "      <td>...</td>\n",
              "      <td>...</td>\n",
              "      <td>...</td>\n",
              "    </tr>\n",
              "    <tr>\n",
              "      <th>2020-08-06 20:00:00</th>\n",
              "      <td>-20.77</td>\n",
              "      <td>-36.41</td>\n",
              "      <td>-11.22</td>\n",
              "      <td>-9.83</td>\n",
              "      <td>-30.94</td>\n",
              "      <td>-11.57</td>\n",
              "    </tr>\n",
              "    <tr>\n",
              "      <th>2020-08-07 00:00:00</th>\n",
              "      <td>50.70</td>\n",
              "      <td>69.87</td>\n",
              "      <td>10.41</td>\n",
              "      <td>25.07</td>\n",
              "      <td>57.89</td>\n",
              "      <td>12.15</td>\n",
              "    </tr>\n",
              "    <tr>\n",
              "      <th>2020-08-07 04:00:00</th>\n",
              "      <td>-46.61</td>\n",
              "      <td>-57.36</td>\n",
              "      <td>-6.48</td>\n",
              "      <td>-13.70</td>\n",
              "      <td>-51.44</td>\n",
              "      <td>-2.96</td>\n",
              "    </tr>\n",
              "    <tr>\n",
              "      <th>2020-08-07 08:00:00</th>\n",
              "      <td>1.07</td>\n",
              "      <td>-2.34</td>\n",
              "      <td>-2.47</td>\n",
              "      <td>-12.26</td>\n",
              "      <td>1.70</td>\n",
              "      <td>-7.01</td>\n",
              "    </tr>\n",
              "    <tr>\n",
              "      <th>2020-08-07 12:00:00</th>\n",
              "      <td>-4.25</td>\n",
              "      <td>-4.00</td>\n",
              "      <td>1.01</td>\n",
              "      <td>0.36</td>\n",
              "      <td>-6.23</td>\n",
              "      <td>3.14</td>\n",
              "    </tr>\n",
              "  </tbody>\n",
              "</table>\n",
              "<p>7887 rows × 6 columns</p>\n",
              "</div>\n",
              "      <button class=\"colab-df-convert\" onclick=\"convertToInteractive('df-c52bffd4-9151-4fee-968b-a6cd98ac0d33')\"\n",
              "              title=\"Convert this dataframe to an interactive table.\"\n",
              "              style=\"display:none;\">\n",
              "        \n",
              "  <svg xmlns=\"http://www.w3.org/2000/svg\" height=\"24px\"viewBox=\"0 0 24 24\"\n",
              "       width=\"24px\">\n",
              "    <path d=\"M0 0h24v24H0V0z\" fill=\"none\"/>\n",
              "    <path d=\"M18.56 5.44l.94 2.06.94-2.06 2.06-.94-2.06-.94-.94-2.06-.94 2.06-2.06.94zm-11 1L8.5 8.5l.94-2.06 2.06-.94-2.06-.94L8.5 2.5l-.94 2.06-2.06.94zm10 10l.94 2.06.94-2.06 2.06-.94-2.06-.94-.94-2.06-.94 2.06-2.06.94z\"/><path d=\"M17.41 7.96l-1.37-1.37c-.4-.4-.92-.59-1.43-.59-.52 0-1.04.2-1.43.59L10.3 9.45l-7.72 7.72c-.78.78-.78 2.05 0 2.83L4 21.41c.39.39.9.59 1.41.59.51 0 1.02-.2 1.41-.59l7.78-7.78 2.81-2.81c.8-.78.8-2.07 0-2.86zM5.41 20L4 18.59l7.72-7.72 1.47 1.35L5.41 20z\"/>\n",
              "  </svg>\n",
              "      </button>\n",
              "      \n",
              "  <style>\n",
              "    .colab-df-container {\n",
              "      display:flex;\n",
              "      flex-wrap:wrap;\n",
              "      gap: 12px;\n",
              "    }\n",
              "\n",
              "    .colab-df-convert {\n",
              "      background-color: #E8F0FE;\n",
              "      border: none;\n",
              "      border-radius: 50%;\n",
              "      cursor: pointer;\n",
              "      display: none;\n",
              "      fill: #1967D2;\n",
              "      height: 32px;\n",
              "      padding: 0 0 0 0;\n",
              "      width: 32px;\n",
              "    }\n",
              "\n",
              "    .colab-df-convert:hover {\n",
              "      background-color: #E2EBFA;\n",
              "      box-shadow: 0px 1px 2px rgba(60, 64, 67, 0.3), 0px 1px 3px 1px rgba(60, 64, 67, 0.15);\n",
              "      fill: #174EA6;\n",
              "    }\n",
              "\n",
              "    [theme=dark] .colab-df-convert {\n",
              "      background-color: #3B4455;\n",
              "      fill: #D2E3FC;\n",
              "    }\n",
              "\n",
              "    [theme=dark] .colab-df-convert:hover {\n",
              "      background-color: #434B5C;\n",
              "      box-shadow: 0px 1px 3px 1px rgba(0, 0, 0, 0.15);\n",
              "      filter: drop-shadow(0px 1px 2px rgba(0, 0, 0, 0.3));\n",
              "      fill: #FFFFFF;\n",
              "    }\n",
              "  </style>\n",
              "\n",
              "      <script>\n",
              "        const buttonEl =\n",
              "          document.querySelector('#df-c52bffd4-9151-4fee-968b-a6cd98ac0d33 button.colab-df-convert');\n",
              "        buttonEl.style.display =\n",
              "          google.colab.kernel.accessAllowed ? 'block' : 'none';\n",
              "\n",
              "        async function convertToInteractive(key) {\n",
              "          const element = document.querySelector('#df-c52bffd4-9151-4fee-968b-a6cd98ac0d33');\n",
              "          const dataTable =\n",
              "            await google.colab.kernel.invokeFunction('convertToInteractive',\n",
              "                                                     [key], {});\n",
              "          if (!dataTable) return;\n",
              "\n",
              "          const docLinkHtml = 'Like what you see? Visit the ' +\n",
              "            '<a target=\"_blank\" href=https://colab.research.google.com/notebooks/data_table.ipynb>data table notebook</a>'\n",
              "            + ' to learn more about interactive tables.';\n",
              "          element.innerHTML = '';\n",
              "          dataTable['output_type'] = 'display_data';\n",
              "          await google.colab.output.renderOutput(dataTable, element);\n",
              "          const docLink = document.createElement('div');\n",
              "          docLink.innerHTML = docLinkHtml;\n",
              "          element.appendChild(docLink);\n",
              "        }\n",
              "      </script>\n",
              "    </div>\n",
              "  </div>\n",
              "  "
            ],
            "text/plain": [
              "                     Cyclone_Inlet_Gas_Temp  Cyclone_Material_Temp  \\\n",
              "time                                                                 \n",
              "2017-01-01 04:00:00                   -0.32                  36.46   \n",
              "2017-01-01 08:00:00                    9.10                 -35.47   \n",
              "2017-01-01 12:00:00                   -8.74                  28.64   \n",
              "2017-01-01 16:00:00                   20.20                  12.45   \n",
              "2017-01-01 20:00:00                   -4.25                 -19.65   \n",
              "...                                     ...                    ...   \n",
              "2020-08-06 20:00:00                  -20.77                 -36.41   \n",
              "2020-08-07 00:00:00                   50.70                  69.87   \n",
              "2020-08-07 04:00:00                  -46.61                 -57.36   \n",
              "2020-08-07 08:00:00                    1.07                  -2.34   \n",
              "2020-08-07 12:00:00                   -4.25                  -4.00   \n",
              "\n",
              "                     Cyclone_Outlet_Gas_draft  Cyclone_cone_draft  \\\n",
              "time                                                                \n",
              "2017-01-01 04:00:00                     13.78               32.13   \n",
              "2017-01-01 08:00:00                     -0.15              -17.64   \n",
              "2017-01-01 12:00:00                     -0.73               25.75   \n",
              "2017-01-01 16:00:00                     -0.88              -31.56   \n",
              "2017-01-01 20:00:00                     -7.63               -3.20   \n",
              "...                                       ...                 ...   \n",
              "2020-08-06 20:00:00                    -11.22               -9.83   \n",
              "2020-08-07 00:00:00                     10.41               25.07   \n",
              "2020-08-07 04:00:00                     -6.48              -13.70   \n",
              "2020-08-07 08:00:00                     -2.47              -12.26   \n",
              "2020-08-07 12:00:00                      1.01                0.36   \n",
              "\n",
              "                     Cyclone_Gas_Outlet_Temp  Cyclone_Inlet_Draft  \n",
              "time                                                               \n",
              "2017-01-01 04:00:00                    26.06                11.14  \n",
              "2017-01-01 08:00:00                   -15.71                -9.90  \n",
              "2017-01-01 12:00:00                     0.33                 8.37  \n",
              "2017-01-01 16:00:00                    17.69                -1.09  \n",
              "2017-01-01 20:00:00                   -25.13               -11.06  \n",
              "...                                      ...                  ...  \n",
              "2020-08-06 20:00:00                   -30.94               -11.57  \n",
              "2020-08-07 00:00:00                    57.89                12.15  \n",
              "2020-08-07 04:00:00                   -51.44                -2.96  \n",
              "2020-08-07 08:00:00                     1.70                -7.01  \n",
              "2020-08-07 12:00:00                    -6.23                 3.14  \n",
              "\n",
              "[7887 rows x 6 columns]"
            ]
          },
          "execution_count": 44,
          "metadata": {},
          "output_type": "execute_result"
        }
      ],
      "source": [
        "interpolated_diff"
      ]
    },
    {
      "cell_type": "code",
      "execution_count": null,
      "metadata": {
        "id": "a9ocTPNbxBMK"
      },
      "outputs": [],
      "source": []
    },
    {
      "cell_type": "code",
      "execution_count": null,
      "metadata": {
        "colab": {
          "base_uri": "https://localhost:8080/"
        },
        "id": "dRxPXP-hajw8",
        "outputId": "a910a4a6-858c-4fc7-b20d-036e1b5a88f9"
      },
      "outputs": [
        {
          "data": {
            "text/plain": [
              "(5500, 6)"
            ]
          },
          "execution_count": 45,
          "metadata": {},
          "output_type": "execute_result"
        }
      ],
      "source": [
        "train.shape"
      ]
    },
    {
      "cell_type": "code",
      "execution_count": null,
      "metadata": {
        "id": "iFt8CQ3nYi-k"
      },
      "outputs": [],
      "source": [
        "pq = []"
      ]
    },
    {
      "cell_type": "code",
      "execution_count": null,
      "metadata": {
        "colab": {
          "base_uri": "https://localhost:8080/"
        },
        "id": "H5XQAZn5YfuZ",
        "outputId": "78db4e62-c0ae-42fb-b81f-3a678ace041d"
      },
      "outputs": [
        {
          "name": "stdout",
          "output_type": "stream",
          "text": [
            "Searching order of p and q for : Cyclone_Inlet_Gas_Temp\n",
            "optimal order for:Cyclone_Inlet_Gas_Temp is: (2, 0, 2) \n",
            "\n",
            "\n",
            "Searching order of p and q for : Cyclone_Material_Temp\n",
            "optimal order for:Cyclone_Material_Temp is: (2, 0, 1) \n",
            "\n",
            "\n",
            "Searching order of p and q for : Cyclone_Outlet_Gas_draft\n",
            "optimal order for:Cyclone_Outlet_Gas_draft is: (2, 0, 1) \n",
            "\n",
            "\n",
            "Searching order of p and q for : Cyclone_cone_draft\n",
            "optimal order for:Cyclone_cone_draft is: (4, 0, 2) \n",
            "\n",
            "\n",
            "Searching order of p and q for : Cyclone_Gas_Outlet_Temp\n",
            "optimal order for:Cyclone_Gas_Outlet_Temp is: (0, 0, 3) \n",
            "\n",
            "\n",
            "Searching order of p and q for : Cyclone_Inlet_Draft\n",
            "optimal order for:Cyclone_Inlet_Draft is: (2, 0, 2) \n",
            "\n",
            "\n"
          ]
        }
      ],
      "source": [
        "for name, column in train[['Cyclone_Inlet_Gas_Temp', 'Cyclone_Material_Temp',\n",
        "       'Cyclone_Outlet_Gas_draft', 'Cyclone_cone_draft',\n",
        "       'Cyclone_Gas_Outlet_Temp', 'Cyclone_Inlet_Draft']].iteritems():\n",
        "    print(f'Searching order of p and q for : {name}')\n",
        "    stepwise_model = auto_arima(train[name])\n",
        "    parameter = stepwise_model.get_params().get('order')\n",
        "    print(f'optimal order for:{name} is: {parameter} \\n\\n')\n",
        "    pq.append(stepwise_model.get_params().get('order'))"
      ]
    },
    {
      "cell_type": "code",
      "execution_count": null,
      "metadata": {
        "id": "Pjdz9ExvqZWb"
      },
      "outputs": [],
      "source": [
        "def inverse_diff(actual_interpolated,pred_interpolated):\n",
        "    interpolated_res=pred_interpolated.copy()\n",
        "    columns=actual_interpolated.columns\n",
        "    for col in columns:\n",
        "      interpolated_res[str(col)+'_1st_inv_diff']=actual_interpolated[col].iloc[-1]+ interpolated_res[str(col)].cumsum()\n",
        "    return interpolated_res"
      ]
    },
    {
      "cell_type": "code",
      "execution_count": null,
      "metadata": {
        "id": "hI69XSGYoRV6"
      },
      "outputs": [],
      "source": [
        "results_temp=pd.DataFrame(columns=['p','q','RMSE Cyclone_Inlet_Gas_Temp','RMSE Cyclone_Material_Temp',\n",
        "       'RMSE Cyclone_Outlet_Gas_draft', 'RMSE Cyclone_cone_draft',\n",
        "       'RMSE Cyclone_Gas_Outlet_Temp', 'RMSE Cyclone_Inlet_Draft'])"
      ]
    },
    {
      "cell_type": "code",
      "execution_count": null,
      "metadata": {
        "colab": {
          "base_uri": "https://localhost:8080/",
          "height": 311
        },
        "id": "nAJ8eKdhi80q",
        "outputId": "35181676-ec9d-4ccb-8941-0d5f879f10ef"
      },
      "outputs": [
        {
          "data": {
            "text/plain": [
              "<matplotlib.axes._subplots.AxesSubplot at 0x7f1206264750>"
            ]
          },
          "execution_count": 52,
          "metadata": {},
          "output_type": "execute_result"
        },
        {
          "data": {
            "image/png": "[encoded data removed]",
            "text/plain": [
              "<Figure size 432x288 with 1 Axes>"
            ]
          },
          "metadata": {},
          "output_type": "display_data"
        }
      ],
      "source": [
        "interpolated_diff['Cyclone_Inlet_Gas_Temp'].plot()"
      ]
    },
    {
      "cell_type": "code",
      "execution_count": null,
      "metadata": {
        "id": "DQzqZpv_rGaG"
      },
      "outputs": [],
      "source": [
        "import numpy as np"
      ]
    },
    {
      "cell_type": "code",
      "execution_count": null,
      "metadata": {
        "id": "slnOl0D9qKE2"
      },
      "outputs": [],
      "source": [
        "from timeit import default_timer as timer\n",
        "from statsmodels.tsa.statespace.varmax import VARMAX\n",
        "from sklearn import metrics"
      ]
    },
    {
      "cell_type": "code",
      "execution_count": null,
      "metadata": {
        "colab": {
          "base_uri": "https://localhost:8080/"
        },
        "id": "IqxWW73Ip5Uy",
        "outputId": "3d65e298-d532-4379-b7ce-26ca2b8b32c5"
      },
      "outputs": [
        {
          "name": "stdout",
          "output_type": "stream",
          "text": [
            "Grid Search\n",
            "Running for (2, 0, 2)\n",
            "(2, 2)\n"
          ]
        },
        {
          "name": "stderr",
          "output_type": "stream",
          "text": [
            "/usr/local/lib/python3.7/dist-packages/statsmodels/tsa/statespace/varmax.py:163: EstimationWarning: Estimation of VARMA(p,q) models is not generically robust, due especially to identification issues.\n",
            "  EstimationWarning)\n",
            "/usr/local/lib/python3.7/dist-packages/statsmodels/base/model.py:606: ConvergenceWarning: Maximum Likelihood optimization failed to converge. Check mle_retvals\n",
            "  ConvergenceWarning)\n"
          ]
        },
        {
          "name": "stdout",
          "output_type": "stream",
          "text": [
            "Running for (2, 0, 1)\n",
            "(2, 1)\n"
          ]
        },
        {
          "name": "stderr",
          "output_type": "stream",
          "text": [
            "/usr/local/lib/python3.7/dist-packages/statsmodels/tsa/statespace/varmax.py:163: EstimationWarning: Estimation of VARMA(p,q) models is not generically robust, due especially to identification issues.\n",
            "  EstimationWarning)\n",
            "/usr/local/lib/python3.7/dist-packages/statsmodels/base/model.py:606: ConvergenceWarning: Maximum Likelihood optimization failed to converge. Check mle_retvals\n",
            "  ConvergenceWarning)\n"
          ]
        },
        {
          "name": "stdout",
          "output_type": "stream",
          "text": [
            "Running for (2, 0, 1)\n",
            "(2, 1)\n"
          ]
        },
        {
          "name": "stderr",
          "output_type": "stream",
          "text": [
            "/usr/local/lib/python3.7/dist-packages/statsmodels/tsa/statespace/varmax.py:163: EstimationWarning: Estimation of VARMA(p,q) models is not generically robust, due especially to identification issues.\n",
            "  EstimationWarning)\n",
            "/usr/local/lib/python3.7/dist-packages/statsmodels/base/model.py:606: ConvergenceWarning: Maximum Likelihood optimization failed to converge. Check mle_retvals\n",
            "  ConvergenceWarning)\n"
          ]
        },
        {
          "name": "stdout",
          "output_type": "stream",
          "text": [
            "Running for (4, 0, 2)\n",
            "(4, 2)\n"
          ]
        },
        {
          "name": "stderr",
          "output_type": "stream",
          "text": [
            "/usr/local/lib/python3.7/dist-packages/statsmodels/tsa/statespace/varmax.py:163: EstimationWarning: Estimation of VARMA(p,q) models is not generically robust, due especially to identification issues.\n",
            "  EstimationWarning)\n",
            "/usr/local/lib/python3.7/dist-packages/statsmodels/base/model.py:606: ConvergenceWarning: Maximum Likelihood optimization failed to converge. Check mle_retvals\n",
            "  ConvergenceWarning)\n"
          ]
        },
        {
          "name": "stdout",
          "output_type": "stream",
          "text": [
            "Running for (0, 0, 3)\n",
            "(0, 3)\n"
          ]
        },
        {
          "name": "stderr",
          "output_type": "stream",
          "text": [
            "/usr/local/lib/python3.7/dist-packages/statsmodels/base/model.py:606: ConvergenceWarning: Maximum Likelihood optimization failed to converge. Check mle_retvals\n",
            "  ConvergenceWarning)\n"
          ]
        },
        {
          "name": "stdout",
          "output_type": "stream",
          "text": [
            "Running for (2, 0, 2)\n",
            "(2, 2)\n"
          ]
        },
        {
          "name": "stderr",
          "output_type": "stream",
          "text": [
            "/usr/local/lib/python3.7/dist-packages/statsmodels/tsa/statespace/varmax.py:163: EstimationWarning: Estimation of VARMA(p,q) models is not generically robust, due especially to identification issues.\n",
            "  EstimationWarning)\n",
            "/usr/local/lib/python3.7/dist-packages/statsmodels/base/model.py:606: ConvergenceWarning: Maximum Likelihood optimization failed to converge. Check mle_retvals\n",
            "  ConvergenceWarning)\n"
          ]
        },
        {
          "name": "stdout",
          "output_type": "stream",
          "text": [
            "Total time taken to complete grid search in seconds:4209.694123806999\n"
          ]
        }
      ],
      "source": [
        "print('Grid Search')\n",
        "start=timer()\n",
        "for i in pq:\n",
        "     if i[0]== 0 and i[2]==0:\n",
        "       pass\n",
        "     else:\n",
        "      print(f'Running for {i}')\n",
        "      print(f'{i[0],i[2]}')\n",
        "      model=VARMAX(train[['Cyclone_Inlet_Gas_Temp','Cyclone_Material_Temp','Cyclone_Outlet_Gas_draft', 'Cyclone_cone_draft','Cyclone_Gas_Outlet_Temp', 'Cyclone_Inlet_Draft']], order=(i[0],i[2]),enforce_stationarity=True).fit(disp=False)\n",
        "      result=model.forecast(steps=2387)\n",
        "      inv_res=inverse_diff(test[['Cyclone_Inlet_Gas_Temp', 'Cyclone_Material_Temp','Cyclone_Outlet_Gas_draft', 'Cyclone_cone_draft','Cyclone_Gas_Outlet_Temp', 'Cyclone_Inlet_Draft']],result)\n",
        "      InletGasTempRMSE=np.sqrt(metrics.mean_squared_error(test['Cyclone_Inlet_Gas_Temp'],inv_res.Cyclone_Inlet_Gas_Temp_1st_inv_diff))\n",
        "      MaterialTempRMSE=np.sqrt(metrics.mean_squared_error(test['Cyclone_Material_Temp'],inv_res.Cyclone_Material_Temp_1st_inv_diff))\n",
        "      OutletGasdraftRMSE=np.sqrt(metrics.mean_squared_error(test['Cyclone_Outlet_Gas_draft'],inv_res.Cyclone_Outlet_Gas_draft_1st_inv_diff))\n",
        "      ConedraftRMSE=np.sqrt(metrics.mean_squared_error(test['Cyclone_cone_draft'],inv_res.Cyclone_cone_draft_1st_inv_diff))\n",
        "      GasOutletTempRMSE=np.sqrt(metrics.mean_squared_error(test['Cyclone_Gas_Outlet_Temp'],inv_res.Cyclone_Gas_Outlet_Temp_1st_inv_diff))\n",
        "      InletDraftRMSE=np.sqrt(metrics.mean_squared_error(test['Cyclone_Inlet_Draft'],inv_res.Cyclone_Inlet_Draft_1st_inv_diff))\n",
        "      results_temp=results_temp.append({'p':i[0],'q':i[2],'RMSE Cyclone_Inlet_Gas_Temp':InletGasTempRMSE,'RMSE Cyclone_Material_Temp':MaterialTempRMSE,'RMSE Cyclone_Outlet_Gas_draft':OutletGasdraftRMSE, 'RMSE Cyclone_cone_draft':ConedraftRMSE,'RMSE Cyclone_Gas_Outlet_Temp':GasOutletTempRMSE, 'RMSE Cyclone_Inlet_Draft': InletDraftRMSE},ignore_index=True)\n",
        "end=timer()\n",
        "print(f'Total time taken to complete grid search in seconds:{(end-start)}')      "
      ]
    },
    {
      "cell_type": "code",
      "execution_count": null,
      "metadata": {
        "id": "1psj_T8UupVM"
      },
      "outputs": [],
      "source": [
        "pq"
      ]
    },
    {
      "cell_type": "code",
      "execution_count": null,
      "metadata": {
        "id": "-ckk4vIPvzT8"
      },
      "outputs": [],
      "source": [
        "print('Grid Search')\n",
        "start=timer()\n",
        "for i in pq:\n",
        "     if i[0]== 0 and i[2]==0:\n",
        "       pass\n",
        "     else:\n",
        "      print(f'Running for {i}')\n",
        "      print(f'{i[0],i[2]}')\n",
        "      model=VARMAX(train[['Cyclone_Inlet_Gas_Temp','Cyclone_Material_Temp','Cyclone_Outlet_Gas_draft', 'Cyclone_cone_draft','Cyclone_Gas_Outlet_Temp', 'Cyclone_Inlet_Draft']], order=(i[0],i[2])).fit(disp=False)\n",
        "      result=model.forecast(steps=2388)\n",
        "      InletGasTempRMSE=np.sqrt(metrics.mean_squared_error(test['Cyclone_Inlet_Gas_Temp'],result['Cyclone_Inlet_Gas_Temp']))\n",
        "      MaterialTempRMSE=np.sqrt(metrics.mean_squared_error(test['Cyclone_Material_Temp'],result['Cyclone_Material_Temp']))\n",
        "      OutletGasdraftRMSE=np.sqrt(metrics.mean_squared_error(test['Cyclone_Outlet_Gas_draft'],result['Cyclone_Outlet_Gas_draft']))\n",
        "      ConedraftRMSE=np.sqrt(metrics.mean_squared_error(test['Cyclone_cone_draft'],result['Cyclone_cone_draft']))\n",
        "      GasOutletTempRMSE=np.sqrt(metrics.mean_squared_error(test['Cyclone_Gas_Outlet_Temp'],result['Cyclone_Gas_Outlet_Temp']))\n",
        "      InletDraftRMSE=np.sqrt(metrics.mean_squared_error(test['Cyclone_Inlet_Draft'],result['Cyclone_Inlet_Draft']))\n",
        "      results_temp=results_temp.append({'p':i[0],'q':i[2],'RMSE Cyclone_Inlet_Gas_Temp':InletGasTempRMSE,'RMSE Cyclone_Material_Temp':MaterialTempRMSE,'RMSE Cyclone_Outlet_Gas_draft':OutletGasdraftRMSE, 'RMSE Cyclone_cone_draft':ConedraftRMSE,'RMSE Cyclone_Gas_Outlet_Temp':GasOutletTempRMSE, 'RMSE Cyclone_Inlet_Draft': InletDraftRMSE},ignore_index=True)\n",
        "end=timer()\n",
        "print(f'Total time taken to complete grid search in seconds:{(end-start)}')      "
      ]
    },
    {
      "cell_type": "code",
      "execution_count": null,
      "metadata": {
        "id": "OgfljPwBwtYf"
      },
      "outputs": [],
      "source": [
        "def timeseries_evaluation_metrics_func(y_true, y_pred):\n",
        "    \n",
        "    def mean_absolute_percentage_error(y_true, y_pred): \n",
        "        y_true, y_pred = np.array(y_true), np.array(y_pred)\n",
        "        return np.mean(np.abs((y_true - y_pred) / y_true)) * 100\n",
        "    print('Evaluation metric results:-')\n",
        "    print(f'MSE is : {metrics.mean_squared_error(y_true, y_pred)}')\n",
        "    print(f'MAE is : {metrics.mean_absolute_error(y_true, y_pred)}')\n",
        "    print(f'RMSE is : {np.sqrt(metrics.mean_squared_error(y_true, y_pred))}')\n",
        "    print(f'MAPE is : {mean_absolute_percentage_error(y_true, y_pred)}')\n",
        "    print(f'R2 is : {metrics.r2_score(y_true, y_pred)}',end='\\n\\n')"
      ]
    },
    {
      "cell_type": "code",
      "execution_count": null,
      "metadata": {
        "colab": {
          "base_uri": "https://localhost:8080/",
          "height": 299
        },
        "id": "tRmQKpQFqNfO",
        "outputId": "a4d63e14-1812-4893-9b53-2a61554fdbb4"
      },
      "outputs": [
        {
          "data": {
            "text/html": [
              "\n",
              "  <div id=\"df-57a582fd-1172-469c-8e70-eff59d10a36b\">\n",
              "    <div class=\"colab-df-container\">\n",
              "      <div>\n",
              "<style scoped>\n",
              "    .dataframe tbody tr th:only-of-type {\n",
              "        vertical-align: middle;\n",
              "    }\n",
              "\n",
              "    .dataframe tbody tr th {\n",
              "        vertical-align: top;\n",
              "    }\n",
              "\n",
              "    .dataframe thead th {\n",
              "        text-align: right;\n",
              "    }\n",
              "</style>\n",
              "<table border=\"1\" class=\"dataframe\">\n",
              "  <thead>\n",
              "    <tr style=\"text-align: right;\">\n",
              "      <th></th>\n",
              "      <th>p</th>\n",
              "      <th>q</th>\n",
              "      <th>RMSE Cyclone_Inlet_Gas_Temp</th>\n",
              "      <th>RMSE Cyclone_Material_Temp</th>\n",
              "      <th>RMSE Cyclone_Outlet_Gas_draft</th>\n",
              "      <th>RMSE Cyclone_cone_draft</th>\n",
              "      <th>RMSE Cyclone_Gas_Outlet_Temp</th>\n",
              "      <th>RMSE Cyclone_Inlet_Draft</th>\n",
              "    </tr>\n",
              "  </thead>\n",
              "  <tbody>\n",
              "    <tr>\n",
              "      <th>4</th>\n",
              "      <td>0.0</td>\n",
              "      <td>3.0</td>\n",
              "      <td>37.388640</td>\n",
              "      <td>82.158072</td>\n",
              "      <td>31.825892</td>\n",
              "      <td>29.123257</td>\n",
              "      <td>47.249716</td>\n",
              "      <td>25.473447</td>\n",
              "    </tr>\n",
              "    <tr>\n",
              "      <th>1</th>\n",
              "      <td>2.0</td>\n",
              "      <td>1.0</td>\n",
              "      <td>38.333957</td>\n",
              "      <td>81.869476</td>\n",
              "      <td>29.360220</td>\n",
              "      <td>27.457770</td>\n",
              "      <td>48.010289</td>\n",
              "      <td>23.832342</td>\n",
              "    </tr>\n",
              "    <tr>\n",
              "      <th>2</th>\n",
              "      <td>2.0</td>\n",
              "      <td>1.0</td>\n",
              "      <td>38.333957</td>\n",
              "      <td>81.869476</td>\n",
              "      <td>29.360220</td>\n",
              "      <td>27.457770</td>\n",
              "      <td>48.010289</td>\n",
              "      <td>23.832342</td>\n",
              "    </tr>\n",
              "    <tr>\n",
              "      <th>0</th>\n",
              "      <td>2.0</td>\n",
              "      <td>2.0</td>\n",
              "      <td>38.607874</td>\n",
              "      <td>81.899837</td>\n",
              "      <td>32.303426</td>\n",
              "      <td>27.998630</td>\n",
              "      <td>49.005946</td>\n",
              "      <td>26.001792</td>\n",
              "    </tr>\n",
              "    <tr>\n",
              "      <th>5</th>\n",
              "      <td>2.0</td>\n",
              "      <td>2.0</td>\n",
              "      <td>38.607874</td>\n",
              "      <td>81.899837</td>\n",
              "      <td>32.303426</td>\n",
              "      <td>27.998630</td>\n",
              "      <td>49.005946</td>\n",
              "      <td>26.001792</td>\n",
              "    </tr>\n",
              "    <tr>\n",
              "      <th>3</th>\n",
              "      <td>4.0</td>\n",
              "      <td>2.0</td>\n",
              "      <td>42.189460</td>\n",
              "      <td>82.658074</td>\n",
              "      <td>33.805652</td>\n",
              "      <td>28.977727</td>\n",
              "      <td>55.515530</td>\n",
              "      <td>27.146840</td>\n",
              "    </tr>\n",
              "  </tbody>\n",
              "</table>\n",
              "</div>\n",
              "      <button class=\"colab-df-convert\" onclick=\"convertToInteractive('df-57a582fd-1172-469c-8e70-eff59d10a36b')\"\n",
              "              title=\"Convert this dataframe to an interactive table.\"\n",
              "              style=\"display:none;\">\n",
              "        \n",
              "  <svg xmlns=\"http://www.w3.org/2000/svg\" height=\"24px\"viewBox=\"0 0 24 24\"\n",
              "       width=\"24px\">\n",
              "    <path d=\"M0 0h24v24H0V0z\" fill=\"none\"/>\n",
              "    <path d=\"M18.56 5.44l.94 2.06.94-2.06 2.06-.94-2.06-.94-.94-2.06-.94 2.06-2.06.94zm-11 1L8.5 8.5l.94-2.06 2.06-.94-2.06-.94L8.5 2.5l-.94 2.06-2.06.94zm10 10l.94 2.06.94-2.06 2.06-.94-2.06-.94-.94-2.06-.94 2.06-2.06.94z\"/><path d=\"M17.41 7.96l-1.37-1.37c-.4-.4-.92-.59-1.43-.59-.52 0-1.04.2-1.43.59L10.3 9.45l-7.72 7.72c-.78.78-.78 2.05 0 2.83L4 21.41c.39.39.9.59 1.41.59.51 0 1.02-.2 1.41-.59l7.78-7.78 2.81-2.81c.8-.78.8-2.07 0-2.86zM5.41 20L4 18.59l7.72-7.72 1.47 1.35L5.41 20z\"/>\n",
              "  </svg>\n",
              "      </button>\n",
              "      \n",
              "  <style>\n",
              "    .colab-df-container {\n",
              "      display:flex;\n",
              "      flex-wrap:wrap;\n",
              "      gap: 12px;\n",
              "    }\n",
              "\n",
              "    .colab-df-convert {\n",
              "      background-color: #E8F0FE;\n",
              "      border: none;\n",
              "      border-radius: 50%;\n",
              "      cursor: pointer;\n",
              "      display: none;\n",
              "      fill: #1967D2;\n",
              "      height: 32px;\n",
              "      padding: 0 0 0 0;\n",
              "      width: 32px;\n",
              "    }\n",
              "\n",
              "    .colab-df-convert:hover {\n",
              "      background-color: #E2EBFA;\n",
              "      box-shadow: 0px 1px 2px rgba(60, 64, 67, 0.3), 0px 1px 3px 1px rgba(60, 64, 67, 0.15);\n",
              "      fill: #174EA6;\n",
              "    }\n",
              "\n",
              "    [theme=dark] .colab-df-convert {\n",
              "      background-color: #3B4455;\n",
              "      fill: #D2E3FC;\n",
              "    }\n",
              "\n",
              "    [theme=dark] .colab-df-convert:hover {\n",
              "      background-color: #434B5C;\n",
              "      box-shadow: 0px 1px 3px 1px rgba(0, 0, 0, 0.15);\n",
              "      filter: drop-shadow(0px 1px 2px rgba(0, 0, 0, 0.3));\n",
              "      fill: #FFFFFF;\n",
              "    }\n",
              "  </style>\n",
              "\n",
              "      <script>\n",
              "        const buttonEl =\n",
              "          document.querySelector('#df-57a582fd-1172-469c-8e70-eff59d10a36b button.colab-df-convert');\n",
              "        buttonEl.style.display =\n",
              "          google.colab.kernel.accessAllowed ? 'block' : 'none';\n",
              "\n",
              "        async function convertToInteractive(key) {\n",
              "          const element = document.querySelector('#df-57a582fd-1172-469c-8e70-eff59d10a36b');\n",
              "          const dataTable =\n",
              "            await google.colab.kernel.invokeFunction('convertToInteractive',\n",
              "                                                     [key], {});\n",
              "          if (!dataTable) return;\n",
              "\n",
              "          const docLinkHtml = 'Like what you see? Visit the ' +\n",
              "            '<a target=\"_blank\" href=https://colab.research.google.com/notebooks/data_table.ipynb>data table notebook</a>'\n",
              "            + ' to learn more about interactive tables.';\n",
              "          element.innerHTML = '';\n",
              "          dataTable['output_type'] = 'display_data';\n",
              "          await google.colab.output.renderOutput(dataTable, element);\n",
              "          const docLink = document.createElement('div');\n",
              "          docLink.innerHTML = docLinkHtml;\n",
              "          element.appendChild(docLink);\n",
              "        }\n",
              "      </script>\n",
              "    </div>\n",
              "  </div>\n",
              "  "
            ],
            "text/plain": [
              "     p    q  RMSE Cyclone_Inlet_Gas_Temp  RMSE Cyclone_Material_Temp  \\\n",
              "4  0.0  3.0                    37.388640                   82.158072   \n",
              "1  2.0  1.0                    38.333957                   81.869476   \n",
              "2  2.0  1.0                    38.333957                   81.869476   \n",
              "0  2.0  2.0                    38.607874                   81.899837   \n",
              "5  2.0  2.0                    38.607874                   81.899837   \n",
              "3  4.0  2.0                    42.189460                   82.658074   \n",
              "\n",
              "   RMSE Cyclone_Outlet_Gas_draft  RMSE Cyclone_cone_draft  \\\n",
              "4                      31.825892                29.123257   \n",
              "1                      29.360220                27.457770   \n",
              "2                      29.360220                27.457770   \n",
              "0                      32.303426                27.998630   \n",
              "5                      32.303426                27.998630   \n",
              "3                      33.805652                28.977727   \n",
              "\n",
              "   RMSE Cyclone_Gas_Outlet_Temp  RMSE Cyclone_Inlet_Draft  \n",
              "4                     47.249716                 25.473447  \n",
              "1                     48.010289                 23.832342  \n",
              "2                     48.010289                 23.832342  \n",
              "0                     49.005946                 26.001792  \n",
              "5                     49.005946                 26.001792  \n",
              "3                     55.515530                 27.146840  "
            ]
          },
          "execution_count": 59,
          "metadata": {},
          "output_type": "execute_result"
        }
      ],
      "source": [
        "results_temp.sort_values(by=['RMSE Cyclone_Inlet_Gas_Temp','RMSE Cyclone_Material_Temp',\n",
        "       'RMSE Cyclone_Outlet_Gas_draft', 'RMSE Cyclone_cone_draft',\n",
        "       'RMSE Cyclone_Gas_Outlet_Temp', 'RMSE Cyclone_Inlet_Draft'])"
      ]
    },
    {
      "cell_type": "code",
      "execution_count": null,
      "metadata": {
        "colab": {
          "background_save": true,
          "base_uri": "https://localhost:8080/"
        },
        "id": "9t4hMUcfupWv",
        "outputId": "385e462b-06f5-4845-c090-5b6e59387465"
      },
      "outputs": [
        {
          "name": "stderr",
          "output_type": "stream",
          "text": [
            "/usr/local/lib/python3.7/dist-packages/statsmodels/base/model.py:606: ConvergenceWarning: Maximum Likelihood optimization failed to converge. Check mle_retvals\n",
            "  ConvergenceWarning)\n"
          ]
        }
      ],
      "source": [
        "# from above example we can see that p=0 and q=2 gives least RMSE\n",
        "model = VARMAX(train[[ 'Cyclone_Inlet_Gas_Temp','Cyclone_Material_Temp','Cyclone_Outlet_Gas_draft', 'Cyclone_cone_draft','Cyclone_Gas_Outlet_Temp', 'Cyclone_Inlet_Draft' ]], order=(0,3)).fit(disp=False)\n",
        "result = model.forecast(steps = 2388)"
      ]
    },
    {
      "cell_type": "code",
      "execution_count": null,
      "metadata": {
        "colab": {
          "base_uri": "https://localhost:8080/",
          "height": 468
        },
        "id": "LrI2LkXt5-dn",
        "outputId": "cde411ae-6f78-47fe-a77d-09016316bbcb"
      },
      "outputs": [
        {
          "data": {
            "text/html": [
              "\n",
              "  <div id=\"df-2826f322-64cc-43ee-b883-163b2d9d12ee\">\n",
              "    <div class=\"colab-df-container\">\n",
              "      <div>\n",
              "<style scoped>\n",
              "    .dataframe tbody tr th:only-of-type {\n",
              "        vertical-align: middle;\n",
              "    }\n",
              "\n",
              "    .dataframe tbody tr th {\n",
              "        vertical-align: top;\n",
              "    }\n",
              "\n",
              "    .dataframe thead th {\n",
              "        text-align: right;\n",
              "    }\n",
              "</style>\n",
              "<table border=\"1\" class=\"dataframe\">\n",
              "  <thead>\n",
              "    <tr style=\"text-align: right;\">\n",
              "      <th></th>\n",
              "      <th>Cyclone_Inlet_Gas_Temp</th>\n",
              "      <th>Cyclone_Material_Temp</th>\n",
              "      <th>Cyclone_Outlet_Gas_draft</th>\n",
              "      <th>Cyclone_cone_draft</th>\n",
              "      <th>Cyclone_Gas_Outlet_Temp</th>\n",
              "      <th>Cyclone_Inlet_Draft</th>\n",
              "    </tr>\n",
              "  </thead>\n",
              "  <tbody>\n",
              "    <tr>\n",
              "      <th>2019-07-06 16:00:00</th>\n",
              "      <td>873.383781</td>\n",
              "      <td>903.538535</td>\n",
              "      <td>-209.574685</td>\n",
              "      <td>-179.944976</td>\n",
              "      <td>889.765037</td>\n",
              "      <td>-164.699377</td>\n",
              "    </tr>\n",
              "    <tr>\n",
              "      <th>2019-07-06 20:00:00</th>\n",
              "      <td>869.884309</td>\n",
              "      <td>898.684569</td>\n",
              "      <td>-209.858380</td>\n",
              "      <td>-181.494105</td>\n",
              "      <td>881.873506</td>\n",
              "      <td>-165.381607</td>\n",
              "    </tr>\n",
              "    <tr>\n",
              "      <th>2019-07-07 00:00:00</th>\n",
              "      <td>866.201428</td>\n",
              "      <td>894.649636</td>\n",
              "      <td>-208.851492</td>\n",
              "      <td>-183.018275</td>\n",
              "      <td>874.985486</td>\n",
              "      <td>-164.758211</td>\n",
              "    </tr>\n",
              "    <tr>\n",
              "      <th>2019-07-07 04:00:00</th>\n",
              "      <td>862.716672</td>\n",
              "      <td>891.038375</td>\n",
              "      <td>-207.972339</td>\n",
              "      <td>-184.158388</td>\n",
              "      <td>868.392426</td>\n",
              "      <td>-164.248022</td>\n",
              "    </tr>\n",
              "    <tr>\n",
              "      <th>2019-07-07 08:00:00</th>\n",
              "      <td>859.345097</td>\n",
              "      <td>887.589360</td>\n",
              "      <td>-207.085963</td>\n",
              "      <td>-185.065891</td>\n",
              "      <td>862.315739</td>\n",
              "      <td>-163.705167</td>\n",
              "    </tr>\n",
              "    <tr>\n",
              "      <th>...</th>\n",
              "      <td>...</td>\n",
              "      <td>...</td>\n",
              "      <td>...</td>\n",
              "      <td>...</td>\n",
              "      <td>...</td>\n",
              "      <td>...</td>\n",
              "    </tr>\n",
              "    <tr>\n",
              "      <th>2020-08-06 20:00:00</th>\n",
              "      <td>750.954566</td>\n",
              "      <td>778.610645</td>\n",
              "      <td>-176.256690</td>\n",
              "      <td>-168.492780</td>\n",
              "      <td>732.715049</td>\n",
              "      <td>-140.919141</td>\n",
              "    </tr>\n",
              "    <tr>\n",
              "      <th>2020-08-07 00:00:00</th>\n",
              "      <td>750.954566</td>\n",
              "      <td>778.610645</td>\n",
              "      <td>-176.256690</td>\n",
              "      <td>-168.492780</td>\n",
              "      <td>732.715049</td>\n",
              "      <td>-140.919141</td>\n",
              "    </tr>\n",
              "    <tr>\n",
              "      <th>2020-08-07 04:00:00</th>\n",
              "      <td>750.954566</td>\n",
              "      <td>778.610645</td>\n",
              "      <td>-176.256690</td>\n",
              "      <td>-168.492780</td>\n",
              "      <td>732.715049</td>\n",
              "      <td>-140.919141</td>\n",
              "    </tr>\n",
              "    <tr>\n",
              "      <th>2020-08-07 08:00:00</th>\n",
              "      <td>750.954566</td>\n",
              "      <td>778.610645</td>\n",
              "      <td>-176.256690</td>\n",
              "      <td>-168.492780</td>\n",
              "      <td>732.715049</td>\n",
              "      <td>-140.919141</td>\n",
              "    </tr>\n",
              "    <tr>\n",
              "      <th>2020-08-07 12:00:00</th>\n",
              "      <td>750.954566</td>\n",
              "      <td>778.610645</td>\n",
              "      <td>-176.256690</td>\n",
              "      <td>-168.492780</td>\n",
              "      <td>732.715049</td>\n",
              "      <td>-140.919141</td>\n",
              "    </tr>\n",
              "  </tbody>\n",
              "</table>\n",
              "<p>2388 rows × 6 columns</p>\n",
              "</div>\n",
              "      <button class=\"colab-df-convert\" onclick=\"convertToInteractive('df-2826f322-64cc-43ee-b883-163b2d9d12ee')\"\n",
              "              title=\"Convert this dataframe to an interactive table.\"\n",
              "              style=\"display:none;\">\n",
              "        \n",
              "  <svg xmlns=\"http://www.w3.org/2000/svg\" height=\"24px\"viewBox=\"0 0 24 24\"\n",
              "       width=\"24px\">\n",
              "    <path d=\"M0 0h24v24H0V0z\" fill=\"none\"/>\n",
              "    <path d=\"M18.56 5.44l.94 2.06.94-2.06 2.06-.94-2.06-.94-.94-2.06-.94 2.06-2.06.94zm-11 1L8.5 8.5l.94-2.06 2.06-.94-2.06-.94L8.5 2.5l-.94 2.06-2.06.94zm10 10l.94 2.06.94-2.06 2.06-.94-2.06-.94-.94-2.06-.94 2.06-2.06.94z\"/><path d=\"M17.41 7.96l-1.37-1.37c-.4-.4-.92-.59-1.43-.59-.52 0-1.04.2-1.43.59L10.3 9.45l-7.72 7.72c-.78.78-.78 2.05 0 2.83L4 21.41c.39.39.9.59 1.41.59.51 0 1.02-.2 1.41-.59l7.78-7.78 2.81-2.81c.8-.78.8-2.07 0-2.86zM5.41 20L4 18.59l7.72-7.72 1.47 1.35L5.41 20z\"/>\n",
              "  </svg>\n",
              "      </button>\n",
              "      \n",
              "  <style>\n",
              "    .colab-df-container {\n",
              "      display:flex;\n",
              "      flex-wrap:wrap;\n",
              "      gap: 12px;\n",
              "    }\n",
              "\n",
              "    .colab-df-convert {\n",
              "      background-color: #E8F0FE;\n",
              "      border: none;\n",
              "      border-radius: 50%;\n",
              "      cursor: pointer;\n",
              "      display: none;\n",
              "      fill: #1967D2;\n",
              "      height: 32px;\n",
              "      padding: 0 0 0 0;\n",
              "      width: 32px;\n",
              "    }\n",
              "\n",
              "    .colab-df-convert:hover {\n",
              "      background-color: #E2EBFA;\n",
              "      box-shadow: 0px 1px 2px rgba(60, 64, 67, 0.3), 0px 1px 3px 1px rgba(60, 64, 67, 0.15);\n",
              "      fill: #174EA6;\n",
              "    }\n",
              "\n",
              "    [theme=dark] .colab-df-convert {\n",
              "      background-color: #3B4455;\n",
              "      fill: #D2E3FC;\n",
              "    }\n",
              "\n",
              "    [theme=dark] .colab-df-convert:hover {\n",
              "      background-color: #434B5C;\n",
              "      box-shadow: 0px 1px 3px 1px rgba(0, 0, 0, 0.15);\n",
              "      filter: drop-shadow(0px 1px 2px rgba(0, 0, 0, 0.3));\n",
              "      fill: #FFFFFF;\n",
              "    }\n",
              "  </style>\n",
              "\n",
              "      <script>\n",
              "        const buttonEl =\n",
              "          document.querySelector('#df-2826f322-64cc-43ee-b883-163b2d9d12ee button.colab-df-convert');\n",
              "        buttonEl.style.display =\n",
              "          google.colab.kernel.accessAllowed ? 'block' : 'none';\n",
              "\n",
              "        async function convertToInteractive(key) {\n",
              "          const element = document.querySelector('#df-2826f322-64cc-43ee-b883-163b2d9d12ee');\n",
              "          const dataTable =\n",
              "            await google.colab.kernel.invokeFunction('convertToInteractive',\n",
              "                                                     [key], {});\n",
              "          if (!dataTable) return;\n",
              "\n",
              "          const docLinkHtml = 'Like what you see? Visit the ' +\n",
              "            '<a target=\"_blank\" href=https://colab.research.google.com/notebooks/data_table.ipynb>data table notebook</a>'\n",
              "            + ' to learn more about interactive tables.';\n",
              "          element.innerHTML = '';\n",
              "          dataTable['output_type'] = 'display_data';\n",
              "          await google.colab.output.renderOutput(dataTable, element);\n",
              "          const docLink = document.createElement('div');\n",
              "          docLink.innerHTML = docLinkHtml;\n",
              "          element.appendChild(docLink);\n",
              "        }\n",
              "      </script>\n",
              "    </div>\n",
              "  </div>\n",
              "  "
            ],
            "text/plain": [
              "                     Cyclone_Inlet_Gas_Temp  Cyclone_Material_Temp  \\\n",
              "2019-07-06 16:00:00              873.383781             903.538535   \n",
              "2019-07-06 20:00:00              869.884309             898.684569   \n",
              "2019-07-07 00:00:00              866.201428             894.649636   \n",
              "2019-07-07 04:00:00              862.716672             891.038375   \n",
              "2019-07-07 08:00:00              859.345097             887.589360   \n",
              "...                                     ...                    ...   \n",
              "2020-08-06 20:00:00              750.954566             778.610645   \n",
              "2020-08-07 00:00:00              750.954566             778.610645   \n",
              "2020-08-07 04:00:00              750.954566             778.610645   \n",
              "2020-08-07 08:00:00              750.954566             778.610645   \n",
              "2020-08-07 12:00:00              750.954566             778.610645   \n",
              "\n",
              "                     Cyclone_Outlet_Gas_draft  Cyclone_cone_draft  \\\n",
              "2019-07-06 16:00:00               -209.574685         -179.944976   \n",
              "2019-07-06 20:00:00               -209.858380         -181.494105   \n",
              "2019-07-07 00:00:00               -208.851492         -183.018275   \n",
              "2019-07-07 04:00:00               -207.972339         -184.158388   \n",
              "2019-07-07 08:00:00               -207.085963         -185.065891   \n",
              "...                                       ...                 ...   \n",
              "2020-08-06 20:00:00               -176.256690         -168.492780   \n",
              "2020-08-07 00:00:00               -176.256690         -168.492780   \n",
              "2020-08-07 04:00:00               -176.256690         -168.492780   \n",
              "2020-08-07 08:00:00               -176.256690         -168.492780   \n",
              "2020-08-07 12:00:00               -176.256690         -168.492780   \n",
              "\n",
              "                     Cyclone_Gas_Outlet_Temp  Cyclone_Inlet_Draft  \n",
              "2019-07-06 16:00:00               889.765037          -164.699377  \n",
              "2019-07-06 20:00:00               881.873506          -165.381607  \n",
              "2019-07-07 00:00:00               874.985486          -164.758211  \n",
              "2019-07-07 04:00:00               868.392426          -164.248022  \n",
              "2019-07-07 08:00:00               862.315739          -163.705167  \n",
              "...                                      ...                  ...  \n",
              "2020-08-06 20:00:00               732.715049          -140.919141  \n",
              "2020-08-07 00:00:00               732.715049          -140.919141  \n",
              "2020-08-07 04:00:00               732.715049          -140.919141  \n",
              "2020-08-07 08:00:00               732.715049          -140.919141  \n",
              "2020-08-07 12:00:00               732.715049          -140.919141  \n",
              "\n",
              "[2388 rows x 6 columns]"
            ]
          },
          "execution_count": 115,
          "metadata": {},
          "output_type": "execute_result"
        }
      ],
      "source": [
        " result"
      ]
    },
    {
      "cell_type": "code",
      "execution_count": null,
      "metadata": {
        "colab": {
          "base_uri": "https://localhost:8080/",
          "height": 499
        },
        "id": "7lbkbsl16Pyb",
        "outputId": "ee58f253-d637-4b53-b2d6-9e093984a4a4"
      },
      "outputs": [
        {
          "data": {
            "text/html": [
              "\n",
              "  <div id=\"df-dd1aa609-db5c-4dd4-a611-90dfca49f01a\">\n",
              "    <div class=\"colab-df-container\">\n",
              "      <div>\n",
              "<style scoped>\n",
              "    .dataframe tbody tr th:only-of-type {\n",
              "        vertical-align: middle;\n",
              "    }\n",
              "\n",
              "    .dataframe tbody tr th {\n",
              "        vertical-align: top;\n",
              "    }\n",
              "\n",
              "    .dataframe thead th {\n",
              "        text-align: right;\n",
              "    }\n",
              "</style>\n",
              "<table border=\"1\" class=\"dataframe\">\n",
              "  <thead>\n",
              "    <tr style=\"text-align: right;\">\n",
              "      <th></th>\n",
              "      <th>Cyclone_Inlet_Gas_Temp</th>\n",
              "      <th>Cyclone_Material_Temp</th>\n",
              "      <th>Cyclone_Outlet_Gas_draft</th>\n",
              "      <th>Cyclone_cone_draft</th>\n",
              "      <th>Cyclone_Gas_Outlet_Temp</th>\n",
              "      <th>Cyclone_Inlet_Draft</th>\n",
              "    </tr>\n",
              "    <tr>\n",
              "      <th>time</th>\n",
              "      <th></th>\n",
              "      <th></th>\n",
              "      <th></th>\n",
              "      <th></th>\n",
              "      <th></th>\n",
              "      <th></th>\n",
              "    </tr>\n",
              "  </thead>\n",
              "  <tbody>\n",
              "    <tr>\n",
              "      <th>2019-07-06 16:00:00</th>\n",
              "      <td>923.60</td>\n",
              "      <td>961.08</td>\n",
              "      <td>-198.84</td>\n",
              "      <td>-157.57</td>\n",
              "      <td>923.68</td>\n",
              "      <td>-153.92</td>\n",
              "    </tr>\n",
              "    <tr>\n",
              "      <th>2019-07-06 20:00:00</th>\n",
              "      <td>887.22</td>\n",
              "      <td>918.20</td>\n",
              "      <td>-174.29</td>\n",
              "      <td>-135.03</td>\n",
              "      <td>887.40</td>\n",
              "      <td>-133.84</td>\n",
              "    </tr>\n",
              "    <tr>\n",
              "      <th>2019-07-07 00:00:00</th>\n",
              "      <td>871.43</td>\n",
              "      <td>902.32</td>\n",
              "      <td>-175.60</td>\n",
              "      <td>-127.25</td>\n",
              "      <td>901.54</td>\n",
              "      <td>-142.33</td>\n",
              "    </tr>\n",
              "    <tr>\n",
              "      <th>2019-07-07 04:00:00</th>\n",
              "      <td>874.62</td>\n",
              "      <td>906.38</td>\n",
              "      <td>-199.16</td>\n",
              "      <td>-141.16</td>\n",
              "      <td>902.00</td>\n",
              "      <td>-155.58</td>\n",
              "    </tr>\n",
              "    <tr>\n",
              "      <th>2019-07-07 08:00:00</th>\n",
              "      <td>865.21</td>\n",
              "      <td>894.44</td>\n",
              "      <td>-190.15</td>\n",
              "      <td>-134.74</td>\n",
              "      <td>891.96</td>\n",
              "      <td>-153.81</td>\n",
              "    </tr>\n",
              "    <tr>\n",
              "      <th>...</th>\n",
              "      <td>...</td>\n",
              "      <td>...</td>\n",
              "      <td>...</td>\n",
              "      <td>...</td>\n",
              "      <td>...</td>\n",
              "      <td>...</td>\n",
              "    </tr>\n",
              "    <tr>\n",
              "      <th>2020-08-06 20:00:00</th>\n",
              "      <td>878.99</td>\n",
              "      <td>888.85</td>\n",
              "      <td>-230.51</td>\n",
              "      <td>-210.75</td>\n",
              "      <td>876.16</td>\n",
              "      <td>-182.26</td>\n",
              "    </tr>\n",
              "    <tr>\n",
              "      <th>2020-08-07 00:00:00</th>\n",
              "      <td>929.69</td>\n",
              "      <td>958.72</td>\n",
              "      <td>-220.10</td>\n",
              "      <td>-185.68</td>\n",
              "      <td>934.05</td>\n",
              "      <td>-170.11</td>\n",
              "    </tr>\n",
              "    <tr>\n",
              "      <th>2020-08-07 04:00:00</th>\n",
              "      <td>883.08</td>\n",
              "      <td>901.36</td>\n",
              "      <td>-226.58</td>\n",
              "      <td>-199.38</td>\n",
              "      <td>882.61</td>\n",
              "      <td>-173.07</td>\n",
              "    </tr>\n",
              "    <tr>\n",
              "      <th>2020-08-07 08:00:00</th>\n",
              "      <td>884.15</td>\n",
              "      <td>899.02</td>\n",
              "      <td>-229.05</td>\n",
              "      <td>-211.64</td>\n",
              "      <td>884.31</td>\n",
              "      <td>-180.08</td>\n",
              "    </tr>\n",
              "    <tr>\n",
              "      <th>2020-08-07 12:00:00</th>\n",
              "      <td>879.90</td>\n",
              "      <td>895.02</td>\n",
              "      <td>-228.04</td>\n",
              "      <td>-211.28</td>\n",
              "      <td>878.08</td>\n",
              "      <td>-176.94</td>\n",
              "    </tr>\n",
              "  </tbody>\n",
              "</table>\n",
              "<p>2388 rows × 6 columns</p>\n",
              "</div>\n",
              "      <button class=\"colab-df-convert\" onclick=\"convertToInteractive('df-dd1aa609-db5c-4dd4-a611-90dfca49f01a')\"\n",
              "              title=\"Convert this dataframe to an interactive table.\"\n",
              "              style=\"display:none;\">\n",
              "        \n",
              "  <svg xmlns=\"http://www.w3.org/2000/svg\" height=\"24px\"viewBox=\"0 0 24 24\"\n",
              "       width=\"24px\">\n",
              "    <path d=\"M0 0h24v24H0V0z\" fill=\"none\"/>\n",
              "    <path d=\"M18.56 5.44l.94 2.06.94-2.06 2.06-.94-2.06-.94-.94-2.06-.94 2.06-2.06.94zm-11 1L8.5 8.5l.94-2.06 2.06-.94-2.06-.94L8.5 2.5l-.94 2.06-2.06.94zm10 10l.94 2.06.94-2.06 2.06-.94-2.06-.94-.94-2.06-.94 2.06-2.06.94z\"/><path d=\"M17.41 7.96l-1.37-1.37c-.4-.4-.92-.59-1.43-.59-.52 0-1.04.2-1.43.59L10.3 9.45l-7.72 7.72c-.78.78-.78 2.05 0 2.83L4 21.41c.39.39.9.59 1.41.59.51 0 1.02-.2 1.41-.59l7.78-7.78 2.81-2.81c.8-.78.8-2.07 0-2.86zM5.41 20L4 18.59l7.72-7.72 1.47 1.35L5.41 20z\"/>\n",
              "  </svg>\n",
              "      </button>\n",
              "      \n",
              "  <style>\n",
              "    .colab-df-container {\n",
              "      display:flex;\n",
              "      flex-wrap:wrap;\n",
              "      gap: 12px;\n",
              "    }\n",
              "\n",
              "    .colab-df-convert {\n",
              "      background-color: #E8F0FE;\n",
              "      border: none;\n",
              "      border-radius: 50%;\n",
              "      cursor: pointer;\n",
              "      display: none;\n",
              "      fill: #1967D2;\n",
              "      height: 32px;\n",
              "      padding: 0 0 0 0;\n",
              "      width: 32px;\n",
              "    }\n",
              "\n",
              "    .colab-df-convert:hover {\n",
              "      background-color: #E2EBFA;\n",
              "      box-shadow: 0px 1px 2px rgba(60, 64, 67, 0.3), 0px 1px 3px 1px rgba(60, 64, 67, 0.15);\n",
              "      fill: #174EA6;\n",
              "    }\n",
              "\n",
              "    [theme=dark] .colab-df-convert {\n",
              "      background-color: #3B4455;\n",
              "      fill: #D2E3FC;\n",
              "    }\n",
              "\n",
              "    [theme=dark] .colab-df-convert:hover {\n",
              "      background-color: #434B5C;\n",
              "      box-shadow: 0px 1px 3px 1px rgba(0, 0, 0, 0.15);\n",
              "      filter: drop-shadow(0px 1px 2px rgba(0, 0, 0, 0.3));\n",
              "      fill: #FFFFFF;\n",
              "    }\n",
              "  </style>\n",
              "\n",
              "      <script>\n",
              "        const buttonEl =\n",
              "          document.querySelector('#df-dd1aa609-db5c-4dd4-a611-90dfca49f01a button.colab-df-convert');\n",
              "        buttonEl.style.display =\n",
              "          google.colab.kernel.accessAllowed ? 'block' : 'none';\n",
              "\n",
              "        async function convertToInteractive(key) {\n",
              "          const element = document.querySelector('#df-dd1aa609-db5c-4dd4-a611-90dfca49f01a');\n",
              "          const dataTable =\n",
              "            await google.colab.kernel.invokeFunction('convertToInteractive',\n",
              "                                                     [key], {});\n",
              "          if (!dataTable) return;\n",
              "\n",
              "          const docLinkHtml = 'Like what you see? Visit the ' +\n",
              "            '<a target=\"_blank\" href=https://colab.research.google.com/notebooks/data_table.ipynb>data table notebook</a>'\n",
              "            + ' to learn more about interactive tables.';\n",
              "          element.innerHTML = '';\n",
              "          dataTable['output_type'] = 'display_data';\n",
              "          await google.colab.output.renderOutput(dataTable, element);\n",
              "          const docLink = document.createElement('div');\n",
              "          docLink.innerHTML = docLinkHtml;\n",
              "          element.appendChild(docLink);\n",
              "        }\n",
              "      </script>\n",
              "    </div>\n",
              "  </div>\n",
              "  "
            ],
            "text/plain": [
              "                     Cyclone_Inlet_Gas_Temp  Cyclone_Material_Temp  \\\n",
              "time                                                                 \n",
              "2019-07-06 16:00:00                  923.60                 961.08   \n",
              "2019-07-06 20:00:00                  887.22                 918.20   \n",
              "2019-07-07 00:00:00                  871.43                 902.32   \n",
              "2019-07-07 04:00:00                  874.62                 906.38   \n",
              "2019-07-07 08:00:00                  865.21                 894.44   \n",
              "...                                     ...                    ...   \n",
              "2020-08-06 20:00:00                  878.99                 888.85   \n",
              "2020-08-07 00:00:00                  929.69                 958.72   \n",
              "2020-08-07 04:00:00                  883.08                 901.36   \n",
              "2020-08-07 08:00:00                  884.15                 899.02   \n",
              "2020-08-07 12:00:00                  879.90                 895.02   \n",
              "\n",
              "                     Cyclone_Outlet_Gas_draft  Cyclone_cone_draft  \\\n",
              "time                                                                \n",
              "2019-07-06 16:00:00                   -198.84             -157.57   \n",
              "2019-07-06 20:00:00                   -174.29             -135.03   \n",
              "2019-07-07 00:00:00                   -175.60             -127.25   \n",
              "2019-07-07 04:00:00                   -199.16             -141.16   \n",
              "2019-07-07 08:00:00                   -190.15             -134.74   \n",
              "...                                       ...                 ...   \n",
              "2020-08-06 20:00:00                   -230.51             -210.75   \n",
              "2020-08-07 00:00:00                   -220.10             -185.68   \n",
              "2020-08-07 04:00:00                   -226.58             -199.38   \n",
              "2020-08-07 08:00:00                   -229.05             -211.64   \n",
              "2020-08-07 12:00:00                   -228.04             -211.28   \n",
              "\n",
              "                     Cyclone_Gas_Outlet_Temp  Cyclone_Inlet_Draft  \n",
              "time                                                               \n",
              "2019-07-06 16:00:00                   923.68              -153.92  \n",
              "2019-07-06 20:00:00                   887.40              -133.84  \n",
              "2019-07-07 00:00:00                   901.54              -142.33  \n",
              "2019-07-07 04:00:00                   902.00              -155.58  \n",
              "2019-07-07 08:00:00                   891.96              -153.81  \n",
              "...                                      ...                  ...  \n",
              "2020-08-06 20:00:00                   876.16              -182.26  \n",
              "2020-08-07 00:00:00                   934.05              -170.11  \n",
              "2020-08-07 04:00:00                   882.61              -173.07  \n",
              "2020-08-07 08:00:00                   884.31              -180.08  \n",
              "2020-08-07 12:00:00                   878.08              -176.94  \n",
              "\n",
              "[2388 rows x 6 columns]"
            ]
          },
          "execution_count": 117,
          "metadata": {},
          "output_type": "execute_result"
        }
      ],
      "source": [
        "test"
      ]
    },
    {
      "cell_type": "code",
      "execution_count": null,
      "metadata": {
        "id": "kGDKZ7C8vHGl"
      },
      "outputs": [],
      "source": [
        "res = inverse_diff(test[['Cyclone_Inlet_Gas_Temp','Cyclone_Material_Temp','Cyclone_Outlet_Gas_draft', 'Cyclone_cone_draft','Cyclone_Gas_Outlet_Temp', 'Cyclone_Inlet_Draft' ]],result)"
      ]
    },
    {
      "cell_type": "code",
      "execution_count": null,
      "metadata": {
        "colab": {
          "base_uri": "https://localhost:8080/",
          "height": 835
        },
        "id": "ZtLpA4flvUMb",
        "outputId": "ea7f4803-ffda-45af-9196-90cb73465a41"
      },
      "outputs": [
        {
          "data": {
            "text/html": [
              "\n",
              "  <div id=\"df-d4d2670f-e545-4889-a898-b654aab61e04\">\n",
              "    <div class=\"colab-df-container\">\n",
              "      <div>\n",
              "<style scoped>\n",
              "    .dataframe tbody tr th:only-of-type {\n",
              "        vertical-align: middle;\n",
              "    }\n",
              "\n",
              "    .dataframe tbody tr th {\n",
              "        vertical-align: top;\n",
              "    }\n",
              "\n",
              "    .dataframe thead th {\n",
              "        text-align: right;\n",
              "    }\n",
              "</style>\n",
              "<table border=\"1\" class=\"dataframe\">\n",
              "  <thead>\n",
              "    <tr style=\"text-align: right;\">\n",
              "      <th></th>\n",
              "      <th>Cyclone_Inlet_Gas_Temp</th>\n",
              "      <th>Cyclone_Material_Temp</th>\n",
              "      <th>Cyclone_Outlet_Gas_draft</th>\n",
              "      <th>Cyclone_cone_draft</th>\n",
              "      <th>Cyclone_Gas_Outlet_Temp</th>\n",
              "      <th>Cyclone_Inlet_Draft</th>\n",
              "      <th>Cyclone_Inlet_Gas_Temp_1st_inv_diff</th>\n",
              "      <th>Cyclone_Material_Temp_1st_inv_diff</th>\n",
              "      <th>Cyclone_Outlet_Gas_draft_1st_inv_diff</th>\n",
              "      <th>Cyclone_cone_draft_1st_inv_diff</th>\n",
              "      <th>Cyclone_Gas_Outlet_Temp_1st_inv_diff</th>\n",
              "      <th>Cyclone_Inlet_Draft_1st_inv_diff</th>\n",
              "    </tr>\n",
              "  </thead>\n",
              "  <tbody>\n",
              "    <tr>\n",
              "      <th>2019-07-06 16:00:00</th>\n",
              "      <td>873.383781</td>\n",
              "      <td>903.538535</td>\n",
              "      <td>-209.574685</td>\n",
              "      <td>-179.944976</td>\n",
              "      <td>889.765037</td>\n",
              "      <td>-164.699377</td>\n",
              "      <td>1.753284e+03</td>\n",
              "      <td>1.798559e+03</td>\n",
              "      <td>-437.614685</td>\n",
              "      <td>-391.224976</td>\n",
              "      <td>1.767845e+03</td>\n",
              "      <td>-341.639377</td>\n",
              "    </tr>\n",
              "    <tr>\n",
              "      <th>2019-07-06 20:00:00</th>\n",
              "      <td>869.884309</td>\n",
              "      <td>898.684569</td>\n",
              "      <td>-209.858380</td>\n",
              "      <td>-181.494105</td>\n",
              "      <td>881.873506</td>\n",
              "      <td>-165.381607</td>\n",
              "      <td>2.623168e+03</td>\n",
              "      <td>2.697243e+03</td>\n",
              "      <td>-647.473065</td>\n",
              "      <td>-572.719081</td>\n",
              "      <td>2.649719e+03</td>\n",
              "      <td>-507.020984</td>\n",
              "    </tr>\n",
              "    <tr>\n",
              "      <th>2019-07-07 00:00:00</th>\n",
              "      <td>866.201428</td>\n",
              "      <td>894.649636</td>\n",
              "      <td>-208.851492</td>\n",
              "      <td>-183.018275</td>\n",
              "      <td>874.985486</td>\n",
              "      <td>-164.758211</td>\n",
              "      <td>3.489370e+03</td>\n",
              "      <td>3.591893e+03</td>\n",
              "      <td>-856.324557</td>\n",
              "      <td>-755.737356</td>\n",
              "      <td>3.524704e+03</td>\n",
              "      <td>-671.779195</td>\n",
              "    </tr>\n",
              "    <tr>\n",
              "      <th>2019-07-07 04:00:00</th>\n",
              "      <td>862.716672</td>\n",
              "      <td>891.038375</td>\n",
              "      <td>-207.972339</td>\n",
              "      <td>-184.158388</td>\n",
              "      <td>868.392426</td>\n",
              "      <td>-164.248022</td>\n",
              "      <td>4.352086e+03</td>\n",
              "      <td>4.482931e+03</td>\n",
              "      <td>-1064.296896</td>\n",
              "      <td>-939.895743</td>\n",
              "      <td>4.393096e+03</td>\n",
              "      <td>-836.027217</td>\n",
              "    </tr>\n",
              "    <tr>\n",
              "      <th>2019-07-07 08:00:00</th>\n",
              "      <td>859.345097</td>\n",
              "      <td>887.589360</td>\n",
              "      <td>-207.085963</td>\n",
              "      <td>-185.065891</td>\n",
              "      <td>862.315739</td>\n",
              "      <td>-163.705167</td>\n",
              "      <td>5.211431e+03</td>\n",
              "      <td>5.370520e+03</td>\n",
              "      <td>-1271.382859</td>\n",
              "      <td>-1124.961634</td>\n",
              "      <td>5.255412e+03</td>\n",
              "      <td>-999.732384</td>\n",
              "    </tr>\n",
              "    <tr>\n",
              "      <th>...</th>\n",
              "      <td>...</td>\n",
              "      <td>...</td>\n",
              "      <td>...</td>\n",
              "      <td>...</td>\n",
              "      <td>...</td>\n",
              "      <td>...</td>\n",
              "      <td>...</td>\n",
              "      <td>...</td>\n",
              "      <td>...</td>\n",
              "      <td>...</td>\n",
              "      <td>...</td>\n",
              "      <td>...</td>\n",
              "    </tr>\n",
              "    <tr>\n",
              "      <th>2020-08-06 20:00:00</th>\n",
              "      <td>750.954566</td>\n",
              "      <td>778.610645</td>\n",
              "      <td>-176.256690</td>\n",
              "      <td>-168.492780</td>\n",
              "      <td>732.715049</td>\n",
              "      <td>-140.919141</td>\n",
              "      <td>1.795691e+06</td>\n",
              "      <td>1.861682e+06</td>\n",
              "      <td>-421711.075490</td>\n",
              "      <td>-402919.309558</td>\n",
              "      <td>1.752502e+06</td>\n",
              "      <td>-337105.254811</td>\n",
              "    </tr>\n",
              "    <tr>\n",
              "      <th>2020-08-07 00:00:00</th>\n",
              "      <td>750.954566</td>\n",
              "      <td>778.610645</td>\n",
              "      <td>-176.256690</td>\n",
              "      <td>-168.492780</td>\n",
              "      <td>732.715049</td>\n",
              "      <td>-140.919141</td>\n",
              "      <td>1.796442e+06</td>\n",
              "      <td>1.862461e+06</td>\n",
              "      <td>-421887.332180</td>\n",
              "      <td>-403087.802338</td>\n",
              "      <td>1.753234e+06</td>\n",
              "      <td>-337246.173952</td>\n",
              "    </tr>\n",
              "    <tr>\n",
              "      <th>2020-08-07 04:00:00</th>\n",
              "      <td>750.954566</td>\n",
              "      <td>778.610645</td>\n",
              "      <td>-176.256690</td>\n",
              "      <td>-168.492780</td>\n",
              "      <td>732.715049</td>\n",
              "      <td>-140.919141</td>\n",
              "      <td>1.797192e+06</td>\n",
              "      <td>1.863239e+06</td>\n",
              "      <td>-422063.588870</td>\n",
              "      <td>-403256.295117</td>\n",
              "      <td>1.753967e+06</td>\n",
              "      <td>-337387.093094</td>\n",
              "    </tr>\n",
              "    <tr>\n",
              "      <th>2020-08-07 08:00:00</th>\n",
              "      <td>750.954566</td>\n",
              "      <td>778.610645</td>\n",
              "      <td>-176.256690</td>\n",
              "      <td>-168.492780</td>\n",
              "      <td>732.715049</td>\n",
              "      <td>-140.919141</td>\n",
              "      <td>1.797943e+06</td>\n",
              "      <td>1.864018e+06</td>\n",
              "      <td>-422239.845560</td>\n",
              "      <td>-403424.787897</td>\n",
              "      <td>1.754700e+06</td>\n",
              "      <td>-337528.012235</td>\n",
              "    </tr>\n",
              "    <tr>\n",
              "      <th>2020-08-07 12:00:00</th>\n",
              "      <td>750.954566</td>\n",
              "      <td>778.610645</td>\n",
              "      <td>-176.256690</td>\n",
              "      <td>-168.492780</td>\n",
              "      <td>732.715049</td>\n",
              "      <td>-140.919141</td>\n",
              "      <td>1.798694e+06</td>\n",
              "      <td>1.864796e+06</td>\n",
              "      <td>-422416.102250</td>\n",
              "      <td>-403593.280677</td>\n",
              "      <td>1.755433e+06</td>\n",
              "      <td>-337668.931376</td>\n",
              "    </tr>\n",
              "  </tbody>\n",
              "</table>\n",
              "<p>2388 rows × 12 columns</p>\n",
              "</div>\n",
              "      <button class=\"colab-df-convert\" onclick=\"convertToInteractive('df-d4d2670f-e545-4889-a898-b654aab61e04')\"\n",
              "              title=\"Convert this dataframe to an interactive table.\"\n",
              "              style=\"display:none;\">\n",
              "        \n",
              "  <svg xmlns=\"http://www.w3.org/2000/svg\" height=\"24px\"viewBox=\"0 0 24 24\"\n",
              "       width=\"24px\">\n",
              "    <path d=\"M0 0h24v24H0V0z\" fill=\"none\"/>\n",
              "    <path d=\"M18.56 5.44l.94 2.06.94-2.06 2.06-.94-2.06-.94-.94-2.06-.94 2.06-2.06.94zm-11 1L8.5 8.5l.94-2.06 2.06-.94-2.06-.94L8.5 2.5l-.94 2.06-2.06.94zm10 10l.94 2.06.94-2.06 2.06-.94-2.06-.94-.94-2.06-.94 2.06-2.06.94z\"/><path d=\"M17.41 7.96l-1.37-1.37c-.4-.4-.92-.59-1.43-.59-.52 0-1.04.2-1.43.59L10.3 9.45l-7.72 7.72c-.78.78-.78 2.05 0 2.83L4 21.41c.39.39.9.59 1.41.59.51 0 1.02-.2 1.41-.59l7.78-7.78 2.81-2.81c.8-.78.8-2.07 0-2.86zM5.41 20L4 18.59l7.72-7.72 1.47 1.35L5.41 20z\"/>\n",
              "  </svg>\n",
              "      </button>\n",
              "      \n",
              "  <style>\n",
              "    .colab-df-container {\n",
              "      display:flex;\n",
              "      flex-wrap:wrap;\n",
              "      gap: 12px;\n",
              "    }\n",
              "\n",
              "    .colab-df-convert {\n",
              "      background-color: #E8F0FE;\n",
              "      border: none;\n",
              "      border-radius: 50%;\n",
              "      cursor: pointer;\n",
              "      display: none;\n",
              "      fill: #1967D2;\n",
              "      height: 32px;\n",
              "      padding: 0 0 0 0;\n",
              "      width: 32px;\n",
              "    }\n",
              "\n",
              "    .colab-df-convert:hover {\n",
              "      background-color: #E2EBFA;\n",
              "      box-shadow: 0px 1px 2px rgba(60, 64, 67, 0.3), 0px 1px 3px 1px rgba(60, 64, 67, 0.15);\n",
              "      fill: #174EA6;\n",
              "    }\n",
              "\n",
              "    [theme=dark] .colab-df-convert {\n",
              "      background-color: #3B4455;\n",
              "      fill: #D2E3FC;\n",
              "    }\n",
              "\n",
              "    [theme=dark] .colab-df-convert:hover {\n",
              "      background-color: #434B5C;\n",
              "      box-shadow: 0px 1px 3px 1px rgba(0, 0, 0, 0.15);\n",
              "      filter: drop-shadow(0px 1px 2px rgba(0, 0, 0, 0.3));\n",
              "      fill: #FFFFFF;\n",
              "    }\n",
              "  </style>\n",
              "\n",
              "      <script>\n",
              "        const buttonEl =\n",
              "          document.querySelector('#df-d4d2670f-e545-4889-a898-b654aab61e04 button.colab-df-convert');\n",
              "        buttonEl.style.display =\n",
              "          google.colab.kernel.accessAllowed ? 'block' : 'none';\n",
              "\n",
              "        async function convertToInteractive(key) {\n",
              "          const element = document.querySelector('#df-d4d2670f-e545-4889-a898-b654aab61e04');\n",
              "          const dataTable =\n",
              "            await google.colab.kernel.invokeFunction('convertToInteractive',\n",
              "                                                     [key], {});\n",
              "          if (!dataTable) return;\n",
              "\n",
              "          const docLinkHtml = 'Like what you see? Visit the ' +\n",
              "            '<a target=\"_blank\" href=https://colab.research.google.com/notebooks/data_table.ipynb>data table notebook</a>'\n",
              "            + ' to learn more about interactive tables.';\n",
              "          element.innerHTML = '';\n",
              "          dataTable['output_type'] = 'display_data';\n",
              "          await google.colab.output.renderOutput(dataTable, element);\n",
              "          const docLink = document.createElement('div');\n",
              "          docLink.innerHTML = docLinkHtml;\n",
              "          element.appendChild(docLink);\n",
              "        }\n",
              "      </script>\n",
              "    </div>\n",
              "  </div>\n",
              "  "
            ],
            "text/plain": [
              "                     Cyclone_Inlet_Gas_Temp  Cyclone_Material_Temp  \\\n",
              "2019-07-06 16:00:00              873.383781             903.538535   \n",
              "2019-07-06 20:00:00              869.884309             898.684569   \n",
              "2019-07-07 00:00:00              866.201428             894.649636   \n",
              "2019-07-07 04:00:00              862.716672             891.038375   \n",
              "2019-07-07 08:00:00              859.345097             887.589360   \n",
              "...                                     ...                    ...   \n",
              "2020-08-06 20:00:00              750.954566             778.610645   \n",
              "2020-08-07 00:00:00              750.954566             778.610645   \n",
              "2020-08-07 04:00:00              750.954566             778.610645   \n",
              "2020-08-07 08:00:00              750.954566             778.610645   \n",
              "2020-08-07 12:00:00              750.954566             778.610645   \n",
              "\n",
              "                     Cyclone_Outlet_Gas_draft  Cyclone_cone_draft  \\\n",
              "2019-07-06 16:00:00               -209.574685         -179.944976   \n",
              "2019-07-06 20:00:00               -209.858380         -181.494105   \n",
              "2019-07-07 00:00:00               -208.851492         -183.018275   \n",
              "2019-07-07 04:00:00               -207.972339         -184.158388   \n",
              "2019-07-07 08:00:00               -207.085963         -185.065891   \n",
              "...                                       ...                 ...   \n",
              "2020-08-06 20:00:00               -176.256690         -168.492780   \n",
              "2020-08-07 00:00:00               -176.256690         -168.492780   \n",
              "2020-08-07 04:00:00               -176.256690         -168.492780   \n",
              "2020-08-07 08:00:00               -176.256690         -168.492780   \n",
              "2020-08-07 12:00:00               -176.256690         -168.492780   \n",
              "\n",
              "                     Cyclone_Gas_Outlet_Temp  Cyclone_Inlet_Draft  \\\n",
              "2019-07-06 16:00:00               889.765037          -164.699377   \n",
              "2019-07-06 20:00:00               881.873506          -165.381607   \n",
              "2019-07-07 00:00:00               874.985486          -164.758211   \n",
              "2019-07-07 04:00:00               868.392426          -164.248022   \n",
              "2019-07-07 08:00:00               862.315739          -163.705167   \n",
              "...                                      ...                  ...   \n",
              "2020-08-06 20:00:00               732.715049          -140.919141   \n",
              "2020-08-07 00:00:00               732.715049          -140.919141   \n",
              "2020-08-07 04:00:00               732.715049          -140.919141   \n",
              "2020-08-07 08:00:00               732.715049          -140.919141   \n",
              "2020-08-07 12:00:00               732.715049          -140.919141   \n",
              "\n",
              "                     Cyclone_Inlet_Gas_Temp_1st_inv_diff  \\\n",
              "2019-07-06 16:00:00                         1.753284e+03   \n",
              "2019-07-06 20:00:00                         2.623168e+03   \n",
              "2019-07-07 00:00:00                         3.489370e+03   \n",
              "2019-07-07 04:00:00                         4.352086e+03   \n",
              "2019-07-07 08:00:00                         5.211431e+03   \n",
              "...                                                  ...   \n",
              "2020-08-06 20:00:00                         1.795691e+06   \n",
              "2020-08-07 00:00:00                         1.796442e+06   \n",
              "2020-08-07 04:00:00                         1.797192e+06   \n",
              "2020-08-07 08:00:00                         1.797943e+06   \n",
              "2020-08-07 12:00:00                         1.798694e+06   \n",
              "\n",
              "                     Cyclone_Material_Temp_1st_inv_diff  \\\n",
              "2019-07-06 16:00:00                        1.798559e+03   \n",
              "2019-07-06 20:00:00                        2.697243e+03   \n",
              "2019-07-07 00:00:00                        3.591893e+03   \n",
              "2019-07-07 04:00:00                        4.482931e+03   \n",
              "2019-07-07 08:00:00                        5.370520e+03   \n",
              "...                                                 ...   \n",
              "2020-08-06 20:00:00                        1.861682e+06   \n",
              "2020-08-07 00:00:00                        1.862461e+06   \n",
              "2020-08-07 04:00:00                        1.863239e+06   \n",
              "2020-08-07 08:00:00                        1.864018e+06   \n",
              "2020-08-07 12:00:00                        1.864796e+06   \n",
              "\n",
              "                     Cyclone_Outlet_Gas_draft_1st_inv_diff  \\\n",
              "2019-07-06 16:00:00                            -437.614685   \n",
              "2019-07-06 20:00:00                            -647.473065   \n",
              "2019-07-07 00:00:00                            -856.324557   \n",
              "2019-07-07 04:00:00                           -1064.296896   \n",
              "2019-07-07 08:00:00                           -1271.382859   \n",
              "...                                                    ...   \n",
              "2020-08-06 20:00:00                         -421711.075490   \n",
              "2020-08-07 00:00:00                         -421887.332180   \n",
              "2020-08-07 04:00:00                         -422063.588870   \n",
              "2020-08-07 08:00:00                         -422239.845560   \n",
              "2020-08-07 12:00:00                         -422416.102250   \n",
              "\n",
              "                     Cyclone_cone_draft_1st_inv_diff  \\\n",
              "2019-07-06 16:00:00                      -391.224976   \n",
              "2019-07-06 20:00:00                      -572.719081   \n",
              "2019-07-07 00:00:00                      -755.737356   \n",
              "2019-07-07 04:00:00                      -939.895743   \n",
              "2019-07-07 08:00:00                     -1124.961634   \n",
              "...                                              ...   \n",
              "2020-08-06 20:00:00                   -402919.309558   \n",
              "2020-08-07 00:00:00                   -403087.802338   \n",
              "2020-08-07 04:00:00                   -403256.295117   \n",
              "2020-08-07 08:00:00                   -403424.787897   \n",
              "2020-08-07 12:00:00                   -403593.280677   \n",
              "\n",
              "                     Cyclone_Gas_Outlet_Temp_1st_inv_diff  \\\n",
              "2019-07-06 16:00:00                          1.767845e+03   \n",
              "2019-07-06 20:00:00                          2.649719e+03   \n",
              "2019-07-07 00:00:00                          3.524704e+03   \n",
              "2019-07-07 04:00:00                          4.393096e+03   \n",
              "2019-07-07 08:00:00                          5.255412e+03   \n",
              "...                                                   ...   \n",
              "2020-08-06 20:00:00                          1.752502e+06   \n",
              "2020-08-07 00:00:00                          1.753234e+06   \n",
              "2020-08-07 04:00:00                          1.753967e+06   \n",
              "2020-08-07 08:00:00                          1.754700e+06   \n",
              "2020-08-07 12:00:00                          1.755433e+06   \n",
              "\n",
              "                     Cyclone_Inlet_Draft_1st_inv_diff  \n",
              "2019-07-06 16:00:00                       -341.639377  \n",
              "2019-07-06 20:00:00                       -507.020984  \n",
              "2019-07-07 00:00:00                       -671.779195  \n",
              "2019-07-07 04:00:00                       -836.027217  \n",
              "2019-07-07 08:00:00                       -999.732384  \n",
              "...                                               ...  \n",
              "2020-08-06 20:00:00                    -337105.254811  \n",
              "2020-08-07 00:00:00                    -337246.173952  \n",
              "2020-08-07 04:00:00                    -337387.093094  \n",
              "2020-08-07 08:00:00                    -337528.012235  \n",
              "2020-08-07 12:00:00                    -337668.931376  \n",
              "\n",
              "[2388 rows x 12 columns]"
            ]
          },
          "execution_count": 102,
          "metadata": {},
          "output_type": "execute_result"
        }
      ],
      "source": [
        "res"
      ]
    },
    {
      "cell_type": "code",
      "execution_count": null,
      "metadata": {
        "colab": {
          "base_uri": "https://localhost:8080/"
        },
        "id": "suJIwN_cuZYg",
        "outputId": "6a8a554c-192b-4c4d-e707-e323f8d6c9b5"
      },
      "outputs": [
        {
          "data": {
            "text/plain": [
              "('Cyclone_Inlet_Gas_Temp',\n",
              " 'Cyclone_Material_Temp',\n",
              " 'Cyclone_Outlet_Gas_draft',\n",
              " 'Cyclone_cone_draft',\n",
              " 'Cyclone_Gas_Outlet_Temp',\n",
              " 'Cyclone_Inlet_Draft')"
            ]
          },
          "execution_count": 103,
          "metadata": {},
          "output_type": "execute_result"
        }
      ],
      "source": [
        "'Cyclone_Inlet_Gas_Temp','Cyclone_Material_Temp','Cyclone_Outlet_Gas_draft', 'Cyclone_cone_draft','Cyclone_Gas_Outlet_Temp', 'Cyclone_Inlet_Draft'"
      ]
    },
    {
      "cell_type": "code",
      "execution_count": null,
      "metadata": {
        "id": "ksM6LtUludE-"
      },
      "outputs": [],
      "source": [
        "for i in ['Cyclone_Inlet_Gas_Temp','Cyclone_Material_Temp','Cyclone_Outlet_Gas_draft', 'Cyclone_cone_draft','Cyclone_Gas_Outlet_Temp', 'Cyclone_Inlet_Draft' ]:\n",
        "    print(f'Evaluation metric for {i}')\n",
        "    timeseries_evaluation_metrics_func(test[i] , res[str(i)+'_1st_inv_diff'])"
      ]
    },
    {
      "cell_type": "code",
      "execution_count": null,
      "metadata": {
        "colab": {
          "base_uri": "https://localhost:8080/",
          "height": 1000
        },
        "id": "b6ROem0jvyZF",
        "outputId": "b582ee3d-3978-45a3-8043-c7a7a04e3fe1"
      },
      "outputs": [
        {
          "name": "stderr",
          "output_type": "stream",
          "text": [
            "WARNING:matplotlib.legend:No handles with labels found to put in legend.\n"
          ]
        },
        {
          "name": "stdout",
          "output_type": "stream",
          "text": [
            "Cyclone_Inlet_Gas_Temp\n"
          ]
        },
        {
          "data": {
            "image/png": "[encoded data removed]",
            "text/plain": [
              "<Figure size 432x288 with 1 Axes>"
            ]
          },
          "metadata": {},
          "output_type": "display_data"
        },
        {
          "name": "stdout",
          "output_type": "stream",
          "text": [
            "Cyclone_Material_Temp\n"
          ]
        },
        {
          "name": "stderr",
          "output_type": "stream",
          "text": [
            "WARNING:matplotlib.legend:No handles with labels found to put in legend.\n"
          ]
        },
        {
          "data": {
            "image/png": "[encoded data removed]",
            "text/plain": [
              "<Figure size 432x288 with 1 Axes>"
            ]
          },
          "metadata": {},
          "output_type": "display_data"
        },
        {
          "name": "stderr",
          "output_type": "stream",
          "text": [
            "WARNING:matplotlib.legend:No handles with labels found to put in legend.\n"
          ]
        },
        {
          "name": "stdout",
          "output_type": "stream",
          "text": [
            "Cyclone_Outlet_Gas_draft\n"
          ]
        },
        {
          "data": {
            "image/png": "[encoded data removed]",
            "text/plain": [
              "<Figure size 432x288 with 1 Axes>"
            ]
          },
          "metadata": {},
          "output_type": "display_data"
        },
        {
          "name": "stderr",
          "output_type": "stream",
          "text": [
            "WARNING:matplotlib.legend:No handles with labels found to put in legend.\n"
          ]
        },
        {
          "name": "stdout",
          "output_type": "stream",
          "text": [
            "Cyclone_cone_draft\n"
          ]
        },
        {
          "data": {
            "image/png": "[encoded data removed]",
            "text/plain": [
              "<Figure size 432x288 with 1 Axes>"
            ]
          },
          "metadata": {},
          "output_type": "display_data"
        },
        {
          "name": "stderr",
          "output_type": "stream",
          "text": [
            "WARNING:matplotlib.legend:No handles with labels found to put in legend.\n"
          ]
        },
        {
          "name": "stdout",
          "output_type": "stream",
          "text": [
            "Cyclone_Gas_Outlet_Temp\n"
          ]
        },
        {
          "data": {
            "image/png": "[encoded data removed]",
            "text/plain": [
              "<Figure size 432x288 with 1 Axes>"
            ]
          },
          "metadata": {},
          "output_type": "display_data"
        },
        {
          "name": "stdout",
          "output_type": "stream",
          "text": [
            "Cyclone_Inlet_Draft\n"
          ]
        },
        {
          "name": "stderr",
          "output_type": "stream",
          "text": [
            "WARNING:matplotlib.legend:No handles with labels found to put in legend.\n"
          ]
        },
        {
          "data": {
            "image/png": "[encoded data removed]",
            "text/plain": [
              "<Figure size 432x288 with 1 Axes>"
            ]
          },
          "metadata": {},
          "output_type": "display_data"
        }
      ],
      "source": [
        "import matplotlib.pyplot as plt\n",
        "%matplotlib inline\n",
        "for i in ['Cyclone_Inlet_Gas_Temp','Cyclone_Material_Temp','Cyclone_Outlet_Gas_draft', 'Cyclone_cone_draft','Cyclone_Gas_Outlet_Temp', 'Cyclone_Inlet_Draft' ]:\n",
        "    print(i)\n",
        "\n",
        "    plt.plot(train[i])\n",
        "    plt.plot(test[i])\n",
        "    plt.plot(res[i])\n",
        "    plt.legend(loc='best')\n",
        "    plt.show()"
      ]
    },
    {
      "cell_type": "code",
      "execution_count": null,
      "metadata": {
        "colab": {
          "base_uri": "https://localhost:8080/",
          "height": 282
        },
        "id": "TzhQDkPb5HKE",
        "outputId": "51325213-1a7d-4fb0-b263-ea0ddd382795"
      },
      "outputs": [
        {
          "data": {
            "text/plain": [
              "[<matplotlib.lines.Line2D at 0x7f0d6e8edd50>]"
            ]
          },
          "execution_count": 116,
          "metadata": {},
          "output_type": "execute_result"
        },
        {
          "data": {
            "image/png": "[encoded data removed]",
            "text/plain": [
              "<Figure size 432x288 with 1 Axes>"
            ]
          },
          "metadata": {},
          "output_type": "display_data"
        }
      ],
      "source": [
        "plt.plot(train['Cyclone_Inlet_Gas_Temp'])\n",
        "plt.plot(test['Cyclone_Inlet_Gas_Temp'])\n",
        "plt.plot(result['Cyclone_Inlet_Gas_Temp'])"
      ]
    },
    {
      "cell_type": "code",
      "execution_count": null,
      "metadata": {
        "id": "ty_T6Alq5lyr"
      },
      "outputs": [],
      "source": [
        "plt.[lot]"
      ]
    },
    {
      "cell_type": "code",
      "execution_count": null,
      "metadata": {
        "colab": {
          "base_uri": "https://localhost:8080/",
          "height": 308
        },
        "id": "aisR3La1RpVM",
        "outputId": "7adce4bb-047d-4f5d-9390-5d2a930443ce"
      },
      "outputs": [
        {
          "data": {
            "text/plain": [
              "<matplotlib.axes._subplots.AxesSubplot at 0x7f8ba1b22390>"
            ]
          },
          "execution_count": 34,
          "metadata": {},
          "output_type": "execute_result"
        },
        {
          "data": {
            "image/png": "[encoded data removed]",
            "text/plain": [
              "<Figure size 432x288 with 1 Axes>"
            ]
          },
          "metadata": {},
          "output_type": "display_data"
        }
      ],
      "source": [
        "interpolated['Cyclone_Inlet_Gas_Temp'].plot()"
      ]
    }
  ],
  "metadata": {
    "colab": {
      "provenance": []
    },
    "gpuClass": "standard",
    "kernelspec": {
      "display_name": "Python 3",
      "name": "python3"
    },
    "language_info": {
      "name": "python"
    }
  },
  "nbformat": 4,
  "nbformat_minor": 0
}